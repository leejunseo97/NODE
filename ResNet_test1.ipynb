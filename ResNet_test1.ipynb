{
 "cells": [
  {
   "cell_type": "code",
   "execution_count": 2,
   "metadata": {},
   "outputs": [
    {
     "name": "stdout",
     "output_type": "stream",
     "text": [
      "Current Device : mps\n"
     ]
    }
   ],
   "source": [
    "import torch\n",
    "import torchvision.transforms as transforms # MNIST 데이터를 텐서 형태로 바꾸기 위해\n",
    "import torch.nn.init\n",
    "import numpy as np\n",
    "import os\n",
    "import random\n",
    "\n",
    "device = None\n",
    "if torch.backends.mps.is_available():\n",
    "    device = torch.device('mps')\n",
    "elif torch.cuda.is_available():\n",
    "    device = torch.device('cuda')\n",
    "else:\n",
    "    device = torch.device('cpu')\n",
    "\n",
    "# 일정한 실험을 위해 랜덤 시드 고정\n",
    "seed = 777\n",
    "torch.cuda.manual_seed(seed)\n",
    "torch.cuda.manual_seed_all(seed) \n",
    "random.seed(seed)\n",
    "os.environ['PYTHONHASHSEED'] = str(seed)\n",
    "np.random.seed(seed)\n",
    "torch.manual_seed(seed)\n",
    "torch.cuda.manual_seed(seed)\n",
    "torch.backends.cudnn.deterministic = True\n",
    "torch.backends.cudnn.benchmark = False\n",
    "\n",
    "# 현재 디바이스가 무엇인지?\n",
    "print('Current Device : ' + str(device))"
   ]
  },
  {
   "cell_type": "code",
   "execution_count": 3,
   "metadata": {},
   "outputs": [
    {
     "name": "stdout",
     "output_type": "stream",
     "text": [
      "Dataset MNIST\n",
      "    Number of datapoints: 60000\n",
      "    Root location: /Users/leejunseo/NODE\n",
      "    Split: Train\n",
      "    StandardTransform\n",
      "Transform: ToTensor()\n"
     ]
    }
   ],
   "source": [
    "import os\n",
    "import torchvision.datasets as dsets # 이 안에 MNIST 있다\n",
    "\n",
    "if os.path.exists('MNIST'):\n",
    "    mnist_train = dsets.MNIST(root=str(os.getcwd()), train=True, transform=transforms.ToTensor(), download=False)\n",
    "    mnist_test = dsets.MNIST(root=str(os.getcwd()), train=False, transform=transforms.ToTensor(), download=False)\n",
    "else: # MNIST 데이터 다운로드\n",
    "    mnist_train = dsets.MNIST(root=str(os.getcwd()), train=True, transform=transforms.ToTensor(), download=True)\n",
    "    mnist_test = dsets.MNIST(root=str(os.getcwd()), train=False, transform=transforms.ToTensor(), download=True)\n",
    "\n",
    "print(mnist_train)\n",
    "\n",
    "BATCH_SIZE = 128\n",
    "train_loader = torch.utils.data.DataLoader(dataset=mnist_train, batch_size=BATCH_SIZE, shuffle=True, drop_last=True)\n",
    "test_loader = torch.utils.data.DataLoader(dataset=mnist_test, batch_size=BATCH_SIZE, shuffle=True, drop_last=True)"
   ]
  },
  {
   "cell_type": "code",
   "execution_count": 4,
   "metadata": {},
   "outputs": [
    {
     "name": "stderr",
     "output_type": "stream",
     "text": [
      "/opt/anaconda3/envs/node/lib/python3.10/site-packages/torchinfo/torchinfo.py:462: UserWarning: TypedStorage is deprecated. It will be removed in the future and UntypedStorage will be the only storage class. This should only matter to you if you are using storages directly.  To access UntypedStorage directly, use tensor.untyped_storage() instead of tensor.storage()\n",
      "  action_fn=lambda data: sys.getsizeof(data.storage()),\n",
      "/opt/anaconda3/envs/node/lib/python3.10/site-packages/torch/storage.py:665: UserWarning: TypedStorage is deprecated. It will be removed in the future and UntypedStorage will be the only storage class. This should only matter to you if you are using storages directly.  To access UntypedStorage directly, use tensor.untyped_storage() instead of tensor.storage()\n",
      "  return super(TypedStorage, self).__sizeof__() + self.nbytes()\n"
     ]
    },
    {
     "data": {
      "text/plain": [
       "==========================================================================================\n",
       "Layer (type:depth-idx)                   Output Shape              Param #\n",
       "==========================================================================================\n",
       "ResNet                                   [128, 10]                 --\n",
       "├─Sequential: 1-1                        [128, 1, 14, 14]          --\n",
       "│    └─Conv2d: 2-1                       [128, 1, 14, 14]          1\n",
       "│    └─BatchNorm2d: 2-2                  [128, 1, 14, 14]          2\n",
       "├─Sequential: 1-2                        [128, 1, 7, 7]            --\n",
       "│    └─Conv2d: 2-3                       [128, 1, 7, 7]            1\n",
       "│    └─BatchNorm2d: 2-4                  [128, 1, 7, 7]            2\n",
       "├─Sequential: 1-3                        [128, 32, 7, 7]           --\n",
       "│    └─ResidualBlock: 2-5                [128, 32, 7, 7]           --\n",
       "│    │    └─Sequential: 3-1              [128, 32, 7, 7]           96\n",
       "│    │    └─Conv2d: 3-2                  [128, 32, 7, 7]           288\n",
       "│    │    └─BatchNorm2d: 3-3             [128, 32, 7, 7]           64\n",
       "│    │    └─ReLU: 3-4                    [128, 32, 7, 7]           --\n",
       "│    │    └─Conv2d: 3-5                  [128, 32, 7, 7]           9,216\n",
       "│    │    └─BatchNorm2d: 3-6             [128, 32, 7, 7]           64\n",
       "│    │    └─ReLU: 3-7                    [128, 32, 7, 7]           --\n",
       "├─Sequential: 1-4                        [128, 32, 4, 4]           --\n",
       "│    └─ResidualBlock: 2-6                [128, 32, 4, 4]           --\n",
       "│    │    └─Sequential: 3-8              [128, 32, 4, 4]           1,088\n",
       "│    │    └─Conv2d: 3-9                  [128, 32, 4, 4]           9,216\n",
       "│    │    └─BatchNorm2d: 3-10            [128, 32, 4, 4]           64\n",
       "│    │    └─ReLU: 3-11                   [128, 32, 4, 4]           --\n",
       "│    │    └─Conv2d: 3-12                 [128, 32, 4, 4]           9,216\n",
       "│    │    └─BatchNorm2d: 3-13            [128, 32, 4, 4]           64\n",
       "│    │    └─ReLU: 3-14                   [128, 32, 4, 4]           --\n",
       "├─Sequential: 1-5                        [128, 64, 4, 4]           --\n",
       "│    └─ResidualBlock: 2-7                [128, 64, 4, 4]           --\n",
       "│    │    └─Sequential: 3-15             [128, 64, 4, 4]           2,176\n",
       "│    │    └─Conv2d: 3-16                 [128, 64, 4, 4]           18,432\n",
       "│    │    └─BatchNorm2d: 3-17            [128, 64, 4, 4]           128\n",
       "│    │    └─ReLU: 3-18                   [128, 64, 4, 4]           --\n",
       "│    │    └─Conv2d: 3-19                 [128, 64, 4, 4]           36,864\n",
       "│    │    └─BatchNorm2d: 3-20            [128, 64, 4, 4]           128\n",
       "│    │    └─ReLU: 3-21                   [128, 64, 4, 4]           --\n",
       "├─Sequential: 1-6                        [128, 64, 2, 2]           --\n",
       "│    └─ResidualBlock: 2-8                [128, 64, 2, 2]           --\n",
       "│    │    └─Sequential: 3-22             [128, 64, 2, 2]           4,224\n",
       "│    │    └─Conv2d: 3-23                 [128, 64, 2, 2]           36,864\n",
       "│    │    └─BatchNorm2d: 3-24            [128, 64, 2, 2]           128\n",
       "│    │    └─ReLU: 3-25                   [128, 64, 2, 2]           --\n",
       "│    │    └─Conv2d: 3-26                 [128, 64, 2, 2]           36,864\n",
       "│    │    └─BatchNorm2d: 3-27            [128, 64, 2, 2]           128\n",
       "│    │    └─ReLU: 3-28                   [128, 64, 2, 2]           --\n",
       "├─Sequential: 1-7                        [128, 128, 2, 2]          --\n",
       "│    └─ResidualBlock: 2-9                [128, 128, 2, 2]          --\n",
       "│    │    └─Sequential: 3-29             [128, 128, 2, 2]          8,448\n",
       "│    │    └─Conv2d: 3-30                 [128, 128, 2, 2]          73,728\n",
       "│    │    └─BatchNorm2d: 3-31            [128, 128, 2, 2]          256\n",
       "│    │    └─ReLU: 3-32                   [128, 128, 2, 2]          --\n",
       "│    │    └─Conv2d: 3-33                 [128, 128, 2, 2]          147,456\n",
       "│    │    └─BatchNorm2d: 3-34            [128, 128, 2, 2]          256\n",
       "│    │    └─ReLU: 3-35                   [128, 128, 2, 2]          --\n",
       "├─Sequential: 1-8                        [128, 128, 1, 1]          --\n",
       "│    └─ResidualBlock: 2-10               [128, 128, 1, 1]          --\n",
       "│    │    └─Sequential: 3-36             [128, 128, 1, 1]          16,640\n",
       "│    │    └─Conv2d: 3-37                 [128, 128, 1, 1]          147,456\n",
       "│    │    └─BatchNorm2d: 3-38            [128, 128, 1, 1]          256\n",
       "│    │    └─ReLU: 3-39                   [128, 128, 1, 1]          --\n",
       "│    │    └─Conv2d: 3-40                 [128, 128, 1, 1]          147,456\n",
       "│    │    └─BatchNorm2d: 3-41            [128, 128, 1, 1]          256\n",
       "│    │    └─ReLU: 3-42                   [128, 128, 1, 1]          --\n",
       "├─Linear: 1-9                            [128, 10]                 1,290\n",
       "==========================================================================================\n",
       "Total params: 708,816\n",
       "Trainable params: 708,816\n",
       "Non-trainable params: 0\n",
       "Total mult-adds (M): 414.77\n",
       "==========================================================================================\n",
       "Input size (MB): 0.40\n",
       "Forward/backward pass size (MB): 25.09\n",
       "Params size (MB): 2.84\n",
       "Estimated Total Size (MB): 28.32\n",
       "=========================================================================================="
      ]
     },
     "execution_count": 4,
     "metadata": {},
     "output_type": "execute_result"
    }
   ],
   "source": [
    "from torchinfo import summary\n",
    "import torch\n",
    "import torch.nn as nn\n",
    "\n",
    "\n",
    "class ResidualBlock(nn.Module):\n",
    "    def __init__(self, in_channels, out_channels, stride=1):\n",
    "        super().__init__()\n",
    "        self.conv1 = nn.Conv2d(in_channels, out_channels, kernel_size=3, stride=stride, padding=1, bias=False)\n",
    "        self.bn1 = nn.BatchNorm2d(out_channels)\n",
    "        self.relu = nn.ReLU()\n",
    "        self.conv2 = nn.Conv2d(out_channels, out_channels, kernel_size=3, stride=1, padding=1, bias=False)\n",
    "        self.bn2 = nn.BatchNorm2d(out_channels)\n",
    "        if stride != 1 or in_channels != out_channels:\n",
    "            self.downsample = nn.Sequential(\n",
    "                nn.Conv2d(in_channels, out_channels, kernel_size=1, stride=stride, bias=False),\n",
    "                nn.BatchNorm2d(out_channels)\n",
    "            )\n",
    "        else:\n",
    "            self.downsample = nn.Identity()\n",
    "\n",
    "    def forward(self, x):\n",
    "        identity = self.downsample(x)\n",
    "        out = self.conv1(x)\n",
    "        out = self.bn1(out)\n",
    "        out = self.relu(out)\n",
    "        out = self.conv2(out)\n",
    "        out = self.bn2(out)\n",
    "        out += identity\n",
    "        out = self.relu(out)\n",
    "        return out\n",
    "\n",
    "\n",
    "class ResNet(nn.Module):\n",
    "    def __init__(self, block, num_classes=10):\n",
    "        super().__init__()\n",
    "        self.downsample1 = nn.Sequential(\n",
    "            nn.Conv2d(in_channels=1, out_channels=1, kernel_size=1, stride=2, bias=False),\n",
    "            nn.BatchNorm2d(1)\n",
    "        )\n",
    "        self.downsample2 = nn.Sequential(\n",
    "            nn.Conv2d(in_channels=1, out_channels=1, kernel_size=1, stride=2, bias=False),\n",
    "            nn.BatchNorm2d(1)\n",
    "        )\n",
    "        self.in_channels = 1\n",
    "        self.layer1 = self._make_layer(block, 32)\n",
    "        self.layer2 = self._make_layer(block, 32, stride=2)\n",
    "        self.layer3 = self._make_layer(block, 64)\n",
    "        self.layer4 = self._make_layer(block, 64, stride=2)\n",
    "        self.layer5 = self._make_layer(block, 128)\n",
    "        self.layer6 = self._make_layer(block, 128, stride=2)\n",
    "        self.fc = nn.Linear(128, num_classes)\n",
    "        # self.conv1 = nn.Conv2d(1, 64, kernel_size=3, stride=1, padding=1, bias=False)\n",
    "        # self.bn1 = nn.BatchNorm2d(64)\n",
    "        # self.relu = nn.ReLU(inplace=True)\n",
    "        # self.avgpool = nn.AdaptiveAvgPool2d((1,1))\n",
    "\n",
    "        # self.layer1 = self._make_layer(block, 64, layers[0])\n",
    "        # self.layer2 = self._make_layer(block, 128, layers[1], stride=2)\n",
    "        # self.layer3 = self._make_layer(block, 256, layers[2], stride=2)\n",
    "        # self.layer4 = self._make_layer(block, 512, layers[3], stride=2)\n",
    "        # self.avgpool = nn.AdaptiveAvgPool2d((1, 1))\n",
    "        # self.fc = nn.Linear(512, num_classes)\n",
    "        return\n",
    "\n",
    "    def _make_layer(self, block, out_channels, blocks=1, stride=1):\n",
    "        layers = []\n",
    "\n",
    "        layers.append(block(self.in_channels, out_channels, stride))\n",
    "        self.in_channels = out_channels\n",
    "\n",
    "        for _ in range(1, blocks):\n",
    "            layers.append(block(out_channels, out_channels))\n",
    "\n",
    "        return nn.Sequential(*layers)\n",
    "\n",
    "    def forward(self, x):\n",
    "        out = self.downsample1(x)\n",
    "        out = self.downsample2(out)\n",
    "        out = self.layer1(out)\n",
    "        out = self.layer2(out)\n",
    "        out = self.layer3(out)\n",
    "        out = self.layer4(out)\n",
    "        out = self.layer5(out)\n",
    "        out = self.layer6(out)\n",
    "        out = torch.flatten(out, 1)\n",
    "        out = self.fc(out)\n",
    "        \n",
    "        # out = self.avgpool(out)\n",
    "        # out = self.conv1(x)\n",
    "        # out = self.bn1(out)\n",
    "        # out = self.relu(out)\n",
    "\n",
    "        # out = self.layer1(out)\n",
    "        # out = self.layer2(out)\n",
    "        # out = self.layer3(out)\n",
    "        # out = self.layer4(out)\n",
    "\n",
    "        # out = self.avgpool(out)\n",
    "        # out = torch.flatten(out, 1)\n",
    "        # out = self.fc(out)\n",
    "\n",
    "        return out\n",
    "\n",
    "model = ResNet(ResidualBlock, num_classes=10)\n",
    "summary(model, (128,1,28,28))"
   ]
  },
  {
   "cell_type": "code",
   "execution_count": 5,
   "metadata": {},
   "outputs": [
    {
     "data": {
      "text/plain": [
       "468"
      ]
     },
     "execution_count": 5,
     "metadata": {},
     "output_type": "execute_result"
    }
   ],
   "source": [
    "len(train_loader)"
   ]
  },
  {
   "cell_type": "code",
   "execution_count": 6,
   "metadata": {},
   "outputs": [
    {
     "name": "stderr",
     "output_type": "stream",
     "text": [
      "Train: 100%|██████████| 468/468 [00:48<00:00,  9.67it/s]\n",
      "Evaluation: 100%|██████████| 78/78 [00:01<00:00, 45.82it/s]\n"
     ]
    },
    {
     "name": "stdout",
     "output_type": "stream",
     "text": [
      "Epoch [1/10] Train_Loss: 0.6216, Test_Loss: 0.5225, Test_acc: 82.93\n"
     ]
    },
    {
     "name": "stderr",
     "output_type": "stream",
     "text": [
      "Train: 100%|██████████| 468/468 [00:46<00:00, 10.13it/s]\n",
      "Evaluation: 100%|██████████| 78/78 [00:01<00:00, 49.58it/s]\n"
     ]
    },
    {
     "name": "stdout",
     "output_type": "stream",
     "text": [
      "Epoch [2/10] Train_Loss: 0.4556, Test_Loss: 0.4336, Test_acc: 85.48\n"
     ]
    },
    {
     "name": "stderr",
     "output_type": "stream",
     "text": [
      "Train: 100%|██████████| 468/468 [00:44<00:00, 10.49it/s]\n",
      "Evaluation: 100%|██████████| 78/78 [00:01<00:00, 49.94it/s]\n"
     ]
    },
    {
     "name": "stdout",
     "output_type": "stream",
     "text": [
      "Epoch [3/10] Train_Loss: 0.4112, Test_Loss: 0.4263, Test_acc: 85.57\n"
     ]
    },
    {
     "name": "stderr",
     "output_type": "stream",
     "text": [
      "Train: 100%|██████████| 468/468 [00:45<00:00, 10.21it/s]\n",
      "Evaluation: 100%|██████████| 78/78 [00:01<00:00, 46.17it/s]\n"
     ]
    },
    {
     "name": "stdout",
     "output_type": "stream",
     "text": [
      "Epoch [4/10] Train_Loss: 0.3829, Test_Loss: 0.3957, Test_acc: 86.69\n"
     ]
    },
    {
     "name": "stderr",
     "output_type": "stream",
     "text": [
      "Train: 100%|██████████| 468/468 [00:46<00:00, 10.06it/s]\n",
      "Evaluation: 100%|██████████| 78/78 [00:01<00:00, 49.07it/s]\n"
     ]
    },
    {
     "name": "stdout",
     "output_type": "stream",
     "text": [
      "Epoch [5/10] Train_Loss: 0.3619, Test_Loss: 0.4185, Test_acc: 86.40\n"
     ]
    },
    {
     "name": "stderr",
     "output_type": "stream",
     "text": [
      "Train: 100%|██████████| 468/468 [00:45<00:00, 10.31it/s]\n",
      "Evaluation: 100%|██████████| 78/78 [00:01<00:00, 48.15it/s]\n"
     ]
    },
    {
     "name": "stdout",
     "output_type": "stream",
     "text": [
      "Epoch [6/10] Train_Loss: 0.3470, Test_Loss: 0.3916, Test_acc: 87.15\n"
     ]
    },
    {
     "name": "stderr",
     "output_type": "stream",
     "text": [
      "Train: 100%|██████████| 468/468 [00:45<00:00, 10.24it/s]\n",
      "Evaluation: 100%|██████████| 78/78 [00:01<00:00, 49.38it/s]\n"
     ]
    },
    {
     "name": "stdout",
     "output_type": "stream",
     "text": [
      "Epoch [7/10] Train_Loss: 0.3352, Test_Loss: 0.3806, Test_acc: 87.49\n"
     ]
    },
    {
     "name": "stderr",
     "output_type": "stream",
     "text": [
      "Train: 100%|██████████| 468/468 [00:45<00:00, 10.33it/s]\n",
      "Evaluation: 100%|██████████| 78/78 [00:01<00:00, 48.98it/s]\n"
     ]
    },
    {
     "name": "stdout",
     "output_type": "stream",
     "text": [
      "Epoch [8/10] Train_Loss: 0.3201, Test_Loss: 0.3785, Test_acc: 88.19\n"
     ]
    },
    {
     "name": "stderr",
     "output_type": "stream",
     "text": [
      "Train: 100%|██████████| 468/468 [00:45<00:00, 10.39it/s]\n",
      "Evaluation: 100%|██████████| 78/78 [00:01<00:00, 49.01it/s]\n"
     ]
    },
    {
     "name": "stdout",
     "output_type": "stream",
     "text": [
      "Epoch [9/10] Train_Loss: 0.3087, Test_Loss: 0.5343, Test_acc: 82.76\n"
     ]
    },
    {
     "name": "stderr",
     "output_type": "stream",
     "text": [
      "Train: 100%|██████████| 468/468 [00:44<00:00, 10.40it/s]\n",
      "Evaluation: 100%|██████████| 78/78 [00:01<00:00, 48.00it/s]"
     ]
    },
    {
     "name": "stdout",
     "output_type": "stream",
     "text": [
      "Epoch [10/10] Train_Loss: 0.2999, Test_Loss: 0.4361, Test_acc: 86.04\n"
     ]
    },
    {
     "name": "stderr",
     "output_type": "stream",
     "text": [
      "\n"
     ]
    }
   ],
   "source": [
    "import torch\n",
    "import torch.nn as nn\n",
    "import torch.optim as optim\n",
    "from torchvision import datasets, transforms\n",
    "from tqdm import tqdm \n",
    "import matplotlib.pyplot as plt\n",
    "\n",
    "# 하이퍼파라미터 설정\n",
    "\n",
    "EPOCH = 10\n",
    "LR = 1e-2\n",
    "accum_loss = 0\n",
    "train_loss_arr = []\n",
    "test_loss_arr = []\n",
    "accum_acc = 0\n",
    "acc_arr = []\n",
    "\n",
    "# 모델 초기화 및 손실 함수, 최적화 알고리즘 설정\n",
    "# model = ResNet(ResidualBlock, num_classes=10).to(device)\n",
    "model.to(device) # summary 함수는 모델을 cpu로 꺼내버림\n",
    "loss_func = nn.CrossEntropyLoss().to(device)\n",
    "optimizer = torch.optim.Adam(model.parameters(), lr=LR)\n",
    "\n",
    "# 모델 학습\n",
    "for epoch in range(EPOCH):\n",
    "    model.train()\n",
    "    with tqdm(total=len(train_loader), desc='Train') as pbar:\n",
    "        for x,y in train_loader:\n",
    "            optimizer.zero_grad()\n",
    "            train_output = model(x.to(device))\n",
    "            train_loss = loss_func(train_output, y.to(device))\n",
    "            train_loss.backward()\n",
    "            optimizer.step()\n",
    "            pbar.update(1)\n",
    "            accum_loss += train_loss.cpu().item()\n",
    "    cur_train_loss = accum_loss/len(train_loader) # (아마도) loss는 미니배치 한 개에 들어있는 데이터 개수 만큼의 loss를 의미할 것임.\n",
    "    train_loss_arr.append(cur_train_loss)\n",
    "    accum_loss = 0\n",
    "        \n",
    "    model.eval()\n",
    "    with torch.no_grad():\n",
    "        with tqdm(total=len(test_loader), desc='Evaluation') as pbar:\n",
    "            for x,y in test_loader:\n",
    "                test_output = model(x.to(device))\n",
    "                test_loss = loss_func(test_output, y.to(device))\n",
    "                accum_loss += test_loss.cpu().item()\n",
    "                max_prob, pred_idx = torch.max(test_output.data, 1)\n",
    "                accum_acc += (pred_idx.cpu() == y).sum().item()\n",
    "                pbar.update(1)\n",
    "    cur_test_loss = accum_loss/len(test_loader)\n",
    "    test_loss_arr.append(cur_test_loss)\n",
    "    cur_acc = 100*accum_acc/len(test_loader.dataset)\n",
    "    acc_arr.append(cur_acc)\n",
    "    accum_loss = 0\n",
    "    accum_acc = 0\n",
    "    print(\"Epoch [{}/{}] Train_Loss: {:.4f}, Test_Loss: {:.4f}, Test_acc: {:.2f}\".format(epoch+1, EPOCH, cur_train_loss,cur_test_loss, cur_acc))\n",
    "    "
   ]
  }
 ],
 "metadata": {
  "kernelspec": {
   "display_name": "node",
   "language": "python",
   "name": "python3"
  },
  "language_info": {
   "codemirror_mode": {
    "name": "ipython",
    "version": 3
   },
   "file_extension": ".py",
   "mimetype": "text/x-python",
   "name": "python",
   "nbconvert_exporter": "python",
   "pygments_lexer": "ipython3",
   "version": "3.10.9"
  },
  "orig_nbformat": 4,
  "vscode": {
   "interpreter": {
    "hash": "f6dd46818a2bcfb695c5511c3e5d8d6ff3d846474524cbf2f80389d5de7d8235"
   }
  }
 },
 "nbformat": 4,
 "nbformat_minor": 2
}
