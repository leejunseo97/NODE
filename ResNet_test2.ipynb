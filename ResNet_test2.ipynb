{
 "cells": [
  {
   "cell_type": "code",
   "execution_count": 7,
   "metadata": {},
   "outputs": [
    {
     "name": "stdout",
     "output_type": "stream",
     "text": [
      "Current Device : mps\n"
     ]
    }
   ],
   "source": [
    "import torch\n",
    "import torchvision.transforms as transforms # MNIST 데이터를 텐서 형태로 바꾸기 위해\n",
    "import torch.nn.init\n",
    "import numpy as np\n",
    "import os\n",
    "import random\n",
    "\n",
    "device = None\n",
    "if torch.backends.mps.is_available():\n",
    "    device = torch.device('mps')\n",
    "elif torch.cuda.is_available():\n",
    "    device = torch.device('cuda')\n",
    "else:\n",
    "    device = torch.device('cpu')\n",
    "\n",
    "# 일정한 실험을 위해 랜덤 시드 고정\n",
    "seed = 777\n",
    "torch.cuda.manual_seed(seed)\n",
    "torch.cuda.manual_seed_all(seed) \n",
    "random.seed(seed)\n",
    "os.environ['PYTHONHASHSEED'] = str(seed)\n",
    "np.random.seed(seed)\n",
    "torch.manual_seed(seed)\n",
    "torch.cuda.manual_seed(seed)\n",
    "torch.backends.cudnn.deterministic = True\n",
    "torch.backends.cudnn.benchmark = False\n",
    "\n",
    "# 현재 디바이스가 무엇인지?\n",
    "print('Current Device : ' + str(device))"
   ]
  },
  {
   "cell_type": "code",
   "execution_count": 8,
   "metadata": {},
   "outputs": [
    {
     "name": "stdout",
     "output_type": "stream",
     "text": [
      "Dataset MNIST\n",
      "    Number of datapoints: 60000\n",
      "    Root location: /Users/leejunseo/NODE\n",
      "    Split: Train\n",
      "    StandardTransform\n",
      "Transform: ToTensor()\n"
     ]
    }
   ],
   "source": [
    "import os\n",
    "import torchvision.datasets as dsets # 이 안에 MNIST 있다\n",
    "\n",
    "if os.path.exists('MNIST'):\n",
    "    mnist_train = dsets.MNIST(root=str(os.getcwd()), train=True, transform=transforms.ToTensor(), download=False)\n",
    "    mnist_test = dsets.MNIST(root=str(os.getcwd()), train=False, transform=transforms.ToTensor(), download=False)\n",
    "else: # MNIST 데이터 다운로드\n",
    "    mnist_train = dsets.MNIST(root=str(os.getcwd()), train=True, transform=transforms.ToTensor(), download=True)\n",
    "    mnist_test = dsets.MNIST(root=str(os.getcwd()), train=False, transform=transforms.ToTensor(), download=True)\n",
    "\n",
    "print(mnist_train)\n",
    "\n",
    "BATCH_SIZE = 100\n",
    "train_loader = torch.utils.data.DataLoader(dataset=mnist_train, batch_size=BATCH_SIZE, shuffle=True, drop_last=True)\n",
    "test_loader = torch.utils.data.DataLoader(dataset=mnist_test, batch_size=BATCH_SIZE, shuffle=True, drop_last=True)"
   ]
  },
  {
   "cell_type": "code",
   "execution_count": 19,
   "metadata": {},
   "outputs": [
    {
     "name": "stderr",
     "output_type": "stream",
     "text": [
      "/opt/anaconda3/envs/node/lib/python3.10/site-packages/torchinfo/torchinfo.py:462: UserWarning: TypedStorage is deprecated. It will be removed in the future and UntypedStorage will be the only storage class. This should only matter to you if you are using storages directly.  To access UntypedStorage directly, use tensor.untyped_storage() instead of tensor.storage()\n",
      "  action_fn=lambda data: sys.getsizeof(data.storage()),\n",
      "/opt/anaconda3/envs/node/lib/python3.10/site-packages/torch/storage.py:665: UserWarning: TypedStorage is deprecated. It will be removed in the future and UntypedStorage will be the only storage class. This should only matter to you if you are using storages directly.  To access UntypedStorage directly, use tensor.untyped_storage() instead of tensor.storage()\n",
      "  return super(TypedStorage, self).__sizeof__() + self.nbytes()\n"
     ]
    },
    {
     "data": {
      "text/plain": [
       "==========================================================================================\n",
       "Layer (type:depth-idx)                   Output Shape              Param #\n",
       "==========================================================================================\n",
       "ResNet                                   [100, 10]                 --\n",
       "├─Sequential: 1-1                        [100, 1, 14, 14]          --\n",
       "│    └─Conv2d: 2-1                       [100, 1, 14, 14]          1\n",
       "│    └─BatchNorm2d: 2-2                  [100, 1, 14, 14]          2\n",
       "├─Sequential: 1-2                        [100, 1, 7, 7]            --\n",
       "│    └─Conv2d: 2-3                       [100, 1, 7, 7]            1\n",
       "│    └─BatchNorm2d: 2-4                  [100, 1, 7, 7]            2\n",
       "├─Sequential: 1-3                        [100, 32, 7, 7]           --\n",
       "│    └─ResidualBlock: 2-5                [100, 32, 7, 7]           --\n",
       "│    │    └─Sequential: 3-1              [100, 32, 7, 7]           96\n",
       "│    │    └─Conv2d: 3-2                  [100, 32, 7, 7]           288\n",
       "│    │    └─BatchNorm2d: 3-3             [100, 32, 7, 7]           64\n",
       "│    │    └─ReLU: 3-4                    [100, 32, 7, 7]           --\n",
       "│    │    └─Conv2d: 3-5                  [100, 32, 7, 7]           9,216\n",
       "│    │    └─BatchNorm2d: 3-6             [100, 32, 7, 7]           64\n",
       "│    │    └─ReLU: 3-7                    [100, 32, 7, 7]           --\n",
       "│    └─ResidualBlock: 2-6                [100, 32, 7, 7]           --\n",
       "│    │    └─Identity: 3-8                [100, 32, 7, 7]           --\n",
       "│    │    └─Conv2d: 3-9                  [100, 32, 7, 7]           9,216\n",
       "│    │    └─BatchNorm2d: 3-10            [100, 32, 7, 7]           64\n",
       "│    │    └─ReLU: 3-11                   [100, 32, 7, 7]           --\n",
       "│    │    └─Conv2d: 3-12                 [100, 32, 7, 7]           9,216\n",
       "│    │    └─BatchNorm2d: 3-13            [100, 32, 7, 7]           64\n",
       "│    │    └─ReLU: 3-14                   [100, 32, 7, 7]           --\n",
       "├─Sequential: 1-4                        [100, 32, 7, 7]           --\n",
       "│    └─ResidualBlock: 2-7                [100, 32, 7, 7]           --\n",
       "│    │    └─Identity: 3-15               [100, 32, 7, 7]           --\n",
       "│    │    └─Conv2d: 3-16                 [100, 32, 7, 7]           9,216\n",
       "│    │    └─BatchNorm2d: 3-17            [100, 32, 7, 7]           64\n",
       "│    │    └─ReLU: 3-18                   [100, 32, 7, 7]           --\n",
       "│    │    └─Conv2d: 3-19                 [100, 32, 7, 7]           9,216\n",
       "│    │    └─BatchNorm2d: 3-20            [100, 32, 7, 7]           64\n",
       "│    │    └─ReLU: 3-21                   [100, 32, 7, 7]           --\n",
       "│    └─ResidualBlock: 2-8                [100, 32, 7, 7]           --\n",
       "│    │    └─Identity: 3-22               [100, 32, 7, 7]           --\n",
       "│    │    └─Conv2d: 3-23                 [100, 32, 7, 7]           9,216\n",
       "│    │    └─BatchNorm2d: 3-24            [100, 32, 7, 7]           64\n",
       "│    │    └─ReLU: 3-25                   [100, 32, 7, 7]           --\n",
       "│    │    └─Conv2d: 3-26                 [100, 32, 7, 7]           9,216\n",
       "│    │    └─BatchNorm2d: 3-27            [100, 32, 7, 7]           64\n",
       "│    │    └─ReLU: 3-28                   [100, 32, 7, 7]           --\n",
       "├─Sequential: 1-5                        [100, 32, 4, 4]           --\n",
       "│    └─ResidualBlock: 2-9                [100, 32, 4, 4]           --\n",
       "│    │    └─Sequential: 3-29             [100, 32, 4, 4]           1,088\n",
       "│    │    └─Conv2d: 3-30                 [100, 32, 4, 4]           9,216\n",
       "│    │    └─BatchNorm2d: 3-31            [100, 32, 4, 4]           64\n",
       "│    │    └─ReLU: 3-32                   [100, 32, 4, 4]           --\n",
       "│    │    └─Conv2d: 3-33                 [100, 32, 4, 4]           9,216\n",
       "│    │    └─BatchNorm2d: 3-34            [100, 32, 4, 4]           64\n",
       "│    │    └─ReLU: 3-35                   [100, 32, 4, 4]           --\n",
       "│    └─ResidualBlock: 2-10               [100, 32, 4, 4]           --\n",
       "│    │    └─Identity: 3-36               [100, 32, 4, 4]           --\n",
       "│    │    └─Conv2d: 3-37                 [100, 32, 4, 4]           9,216\n",
       "│    │    └─BatchNorm2d: 3-38            [100, 32, 4, 4]           64\n",
       "│    │    └─ReLU: 3-39                   [100, 32, 4, 4]           --\n",
       "│    │    └─Conv2d: 3-40                 [100, 32, 4, 4]           9,216\n",
       "│    │    └─BatchNorm2d: 3-41            [100, 32, 4, 4]           64\n",
       "│    │    └─ReLU: 3-42                   [100, 32, 4, 4]           --\n",
       "├─Sequential: 1-6                        [100, 64, 4, 4]           --\n",
       "│    └─ResidualBlock: 2-11               [100, 64, 4, 4]           --\n",
       "│    │    └─Sequential: 3-43             [100, 64, 4, 4]           2,176\n",
       "│    │    └─Conv2d: 3-44                 [100, 64, 4, 4]           18,432\n",
       "│    │    └─BatchNorm2d: 3-45            [100, 64, 4, 4]           128\n",
       "│    │    └─ReLU: 3-46                   [100, 64, 4, 4]           --\n",
       "│    │    └─Conv2d: 3-47                 [100, 64, 4, 4]           36,864\n",
       "│    │    └─BatchNorm2d: 3-48            [100, 64, 4, 4]           128\n",
       "│    │    └─ReLU: 3-49                   [100, 64, 4, 4]           --\n",
       "│    └─ResidualBlock: 2-12               [100, 64, 4, 4]           --\n",
       "│    │    └─Identity: 3-50               [100, 64, 4, 4]           --\n",
       "│    │    └─Conv2d: 3-51                 [100, 64, 4, 4]           36,864\n",
       "│    │    └─BatchNorm2d: 3-52            [100, 64, 4, 4]           128\n",
       "│    │    └─ReLU: 3-53                   [100, 64, 4, 4]           --\n",
       "│    │    └─Conv2d: 3-54                 [100, 64, 4, 4]           36,864\n",
       "│    │    └─BatchNorm2d: 3-55            [100, 64, 4, 4]           128\n",
       "│    │    └─ReLU: 3-56                   [100, 64, 4, 4]           --\n",
       "├─Sequential: 1-7                        [100, 64, 4, 4]           --\n",
       "│    └─ResidualBlock: 2-13               [100, 64, 4, 4]           --\n",
       "│    │    └─Identity: 3-57               [100, 64, 4, 4]           --\n",
       "│    │    └─Conv2d: 3-58                 [100, 64, 4, 4]           36,864\n",
       "│    │    └─BatchNorm2d: 3-59            [100, 64, 4, 4]           128\n",
       "│    │    └─ReLU: 3-60                   [100, 64, 4, 4]           --\n",
       "│    │    └─Conv2d: 3-61                 [100, 64, 4, 4]           36,864\n",
       "│    │    └─BatchNorm2d: 3-62            [100, 64, 4, 4]           128\n",
       "│    │    └─ReLU: 3-63                   [100, 64, 4, 4]           --\n",
       "│    └─ResidualBlock: 2-14               [100, 64, 4, 4]           --\n",
       "│    │    └─Identity: 3-64               [100, 64, 4, 4]           --\n",
       "│    │    └─Conv2d: 3-65                 [100, 64, 4, 4]           36,864\n",
       "│    │    └─BatchNorm2d: 3-66            [100, 64, 4, 4]           128\n",
       "│    │    └─ReLU: 3-67                   [100, 64, 4, 4]           --\n",
       "│    │    └─Conv2d: 3-68                 [100, 64, 4, 4]           36,864\n",
       "│    │    └─BatchNorm2d: 3-69            [100, 64, 4, 4]           128\n",
       "│    │    └─ReLU: 3-70                   [100, 64, 4, 4]           --\n",
       "├─Sequential: 1-8                        [100, 64, 2, 2]           --\n",
       "│    └─ResidualBlock: 2-15               [100, 64, 2, 2]           --\n",
       "│    │    └─Sequential: 3-71             [100, 64, 2, 2]           4,224\n",
       "│    │    └─Conv2d: 3-72                 [100, 64, 2, 2]           36,864\n",
       "│    │    └─BatchNorm2d: 3-73            [100, 64, 2, 2]           128\n",
       "│    │    └─ReLU: 3-74                   [100, 64, 2, 2]           --\n",
       "│    │    └─Conv2d: 3-75                 [100, 64, 2, 2]           36,864\n",
       "│    │    └─BatchNorm2d: 3-76            [100, 64, 2, 2]           128\n",
       "│    │    └─ReLU: 3-77                   [100, 64, 2, 2]           --\n",
       "│    └─ResidualBlock: 2-16               [100, 64, 2, 2]           --\n",
       "│    │    └─Identity: 3-78               [100, 64, 2, 2]           --\n",
       "│    │    └─Conv2d: 3-79                 [100, 64, 2, 2]           36,864\n",
       "│    │    └─BatchNorm2d: 3-80            [100, 64, 2, 2]           128\n",
       "│    │    └─ReLU: 3-81                   [100, 64, 2, 2]           --\n",
       "│    │    └─Conv2d: 3-82                 [100, 64, 2, 2]           36,864\n",
       "│    │    └─BatchNorm2d: 3-83            [100, 64, 2, 2]           128\n",
       "│    │    └─ReLU: 3-84                   [100, 64, 2, 2]           --\n",
       "├─AdaptiveAvgPool2d: 1-9                 [100, 64, 1, 1]           --\n",
       "├─Linear: 1-10                           [100, 10]                 650\n",
       "==========================================================================================\n",
       "Total params: 536,144\n",
       "Trainable params: 536,144\n",
       "Non-trainable params: 0\n",
       "Total mult-adds (M): 884.92\n",
       "==========================================================================================\n",
       "Input size (MB): 0.31\n",
       "Forward/backward pass size (MB): 43.87\n",
       "Params size (MB): 2.14\n",
       "Estimated Total Size (MB): 46.33\n",
       "=========================================================================================="
      ]
     },
     "execution_count": 19,
     "metadata": {},
     "output_type": "execute_result"
    }
   ],
   "source": [
    "from torchinfo import summary\n",
    "import torch\n",
    "import torch.nn as nn\n",
    "\n",
    "\n",
    "class ResidualBlock(nn.Module):\n",
    "    def __init__(self, in_channels, out_channels, stride=1):\n",
    "        super().__init__()\n",
    "        self.conv1 = nn.Conv2d(in_channels, out_channels, kernel_size=3, stride=stride, padding=1, bias=False)\n",
    "        self.bn1 = nn.BatchNorm2d(out_channels)\n",
    "        self.relu = nn.ReLU()\n",
    "        self.conv2 = nn.Conv2d(out_channels, out_channels, kernel_size=3, stride=1, padding=1, bias=False)\n",
    "        self.bn2 = nn.BatchNorm2d(out_channels)\n",
    "        if stride != 1 or in_channels != out_channels:\n",
    "            self.downsample = nn.Sequential(\n",
    "                nn.Conv2d(in_channels, out_channels, kernel_size=1, stride=stride, bias=False),\n",
    "                nn.BatchNorm2d(out_channels)\n",
    "            )\n",
    "        else:\n",
    "            self.downsample = nn.Identity()\n",
    "\n",
    "    def forward(self, x):\n",
    "        identity = self.downsample(x)\n",
    "        out = self.conv1(x)\n",
    "        out = self.bn1(out)\n",
    "        out = self.relu(out)\n",
    "        out = self.conv2(out)\n",
    "        out = self.bn2(out)\n",
    "        out += identity\n",
    "        out = self.relu(out)\n",
    "        return out\n",
    "\n",
    "\n",
    "class ResNet(nn.Module):\n",
    "    def __init__(self, block, num_classes=10):\n",
    "        super().__init__()\n",
    "        self.downsample1 = nn.Sequential(\n",
    "            nn.Conv2d(in_channels=1, out_channels=1, kernel_size=1, stride=2, bias=False),\n",
    "            nn.BatchNorm2d(1)\n",
    "        )\n",
    "        self.downsample2 = nn.Sequential(\n",
    "            nn.Conv2d(in_channels=1, out_channels=1, kernel_size=1, stride=2, bias=False),\n",
    "            nn.BatchNorm2d(1)\n",
    "        )\n",
    "        self.in_channels = 1\n",
    "        self.layer1 = self._make_layer(block, 32, blocks=2)\n",
    "        self.layer2 = self._make_layer(block, 32, blocks=2)\n",
    "        self.layer3 = self._make_layer(block, 32, blocks=2, stride=2)\n",
    "        self.layer4 = self._make_layer(block, 64, blocks=2)\n",
    "        self.layer5 = self._make_layer(block, 64, blocks=2)\n",
    "        self.layer6 = self._make_layer(block, 64, blocks=2, stride=2)\n",
    "        self.avgpool = nn.AdaptiveAvgPool2d((1, 1))\n",
    "        self.fc = nn.Linear(64, num_classes)\n",
    "        # self.conv1 = nn.Conv2d(1, 64, kernel_size=3, stride=1, padding=1, bias=False)\n",
    "        # self.bn1 = nn.BatchNorm2d(64)\n",
    "        # self.relu = nn.ReLU(inplace=True)\n",
    "        # self.avgpool = nn.AdaptiveAvgPool2d((1,1))\n",
    "\n",
    "        # self.layer1 = self._make_layer(block, 64, layers[0])\n",
    "        # self.layer2 = self._make_layer(block, 128, layers[1], stride=2)\n",
    "        # self.layer3 = self._make_layer(block, 256, layers[2], stride=2)\n",
    "        # self.layer4 = self._make_layer(block, 512, layers[3], stride=2)\n",
    "        # self.avgpool = nn.AdaptiveAvgPool2d((1, 1))\n",
    "        # self.fc = nn.Linear(512, num_classes)\n",
    "        return\n",
    "\n",
    "    def _make_layer(self, block, out_channels, blocks=1, stride=1):\n",
    "        layers = []\n",
    "\n",
    "        layers.append(block(self.in_channels, out_channels, stride))\n",
    "        self.in_channels = out_channels\n",
    "\n",
    "        for _ in range(1, blocks):\n",
    "            layers.append(block(out_channels, out_channels))\n",
    "\n",
    "        return nn.Sequential(*layers)\n",
    "\n",
    "    def forward(self, x):\n",
    "        out = self.downsample1(x)\n",
    "        out = self.downsample2(out)\n",
    "        out = self.layer1(out)\n",
    "        out = self.layer2(out)\n",
    "        out = self.layer3(out)\n",
    "        out = self.layer4(out)\n",
    "        out = self.layer5(out)\n",
    "        out = self.layer6(out)\n",
    "        out = self.avgpool(out)\n",
    "        out = torch.flatten(out, 1)\n",
    "        out = self.fc(out)\n",
    "        \n",
    "        # out = self.avgpool(out)\n",
    "        # out = self.conv1(x)\n",
    "        # out = self.bn1(out)\n",
    "        # out = self.relu(out)\n",
    "\n",
    "        # out = self.layer1(out)\n",
    "        # out = self.layer2(out)\n",
    "        # out = self.layer3(out)\n",
    "        # out = self.layer4(out)\n",
    "\n",
    "        # out = self.avgpool(out)\n",
    "        # out = torch.flatten(out, 1)\n",
    "        # out = self.fc(out)\n",
    "\n",
    "        return out\n",
    "\n",
    "model = ResNet(ResidualBlock, num_classes=10)\n",
    "summary(model, (100,1,28,28))"
   ]
  },
  {
   "cell_type": "code",
   "execution_count": 10,
   "metadata": {},
   "outputs": [
    {
     "data": {
      "text/plain": [
       "600"
      ]
     },
     "execution_count": 10,
     "metadata": {},
     "output_type": "execute_result"
    }
   ],
   "source": [
    "len(train_loader)"
   ]
  },
  {
   "cell_type": "code",
   "execution_count": 21,
   "metadata": {},
   "outputs": [
    {
     "name": "stderr",
     "output_type": "stream",
     "text": [
      "Train: 100%|██████████| 600/600 [01:23<00:00,  7.14it/s]\n",
      "Evaluation: 100%|██████████| 100/100 [00:02<00:00, 41.82it/s]\n"
     ]
    },
    {
     "name": "stdout",
     "output_type": "stream",
     "text": [
      "Epoch [1/10] Train_Loss: 0.3588, Test_Loss: 0.3557, Test_acc: 88.03\n"
     ]
    },
    {
     "name": "stderr",
     "output_type": "stream",
     "text": [
      "Train: 100%|██████████| 600/600 [01:25<00:00,  7.00it/s]\n",
      "Evaluation: 100%|██████████| 100/100 [00:02<00:00, 43.21it/s]\n"
     ]
    },
    {
     "name": "stdout",
     "output_type": "stream",
     "text": [
      "Epoch [2/10] Train_Loss: 0.3269, Test_Loss: 0.3458, Test_acc: 88.62\n"
     ]
    },
    {
     "name": "stderr",
     "output_type": "stream",
     "text": [
      "Train: 100%|██████████| 600/600 [01:23<00:00,  7.16it/s]\n",
      "Evaluation: 100%|██████████| 100/100 [00:02<00:00, 42.79it/s]\n"
     ]
    },
    {
     "name": "stdout",
     "output_type": "stream",
     "text": [
      "Epoch [3/10] Train_Loss: 0.3072, Test_Loss: 0.3527, Test_acc: 88.55\n"
     ]
    },
    {
     "name": "stderr",
     "output_type": "stream",
     "text": [
      "Train: 100%|██████████| 600/600 [01:21<00:00,  7.38it/s]\n",
      "Evaluation: 100%|██████████| 100/100 [00:02<00:00, 43.75it/s]\n"
     ]
    },
    {
     "name": "stdout",
     "output_type": "stream",
     "text": [
      "Epoch [4/10] Train_Loss: 0.2890, Test_Loss: 0.3441, Test_acc: 88.63\n"
     ]
    },
    {
     "name": "stderr",
     "output_type": "stream",
     "text": [
      "Train: 100%|██████████| 600/600 [01:23<00:00,  7.15it/s]\n",
      "Evaluation: 100%|██████████| 100/100 [00:02<00:00, 42.97it/s]\n"
     ]
    },
    {
     "name": "stdout",
     "output_type": "stream",
     "text": [
      "Epoch [5/10] Train_Loss: 0.2755, Test_Loss: 0.3484, Test_acc: 88.67\n"
     ]
    },
    {
     "name": "stderr",
     "output_type": "stream",
     "text": [
      "Train: 100%|██████████| 600/600 [01:22<00:00,  7.27it/s]\n",
      "Evaluation: 100%|██████████| 100/100 [00:02<00:00, 44.80it/s]\n"
     ]
    },
    {
     "name": "stdout",
     "output_type": "stream",
     "text": [
      "Epoch [6/10] Train_Loss: 0.2607, Test_Loss: 0.3468, Test_acc: 88.71\n"
     ]
    },
    {
     "name": "stderr",
     "output_type": "stream",
     "text": [
      "Train: 100%|██████████| 600/600 [01:21<00:00,  7.40it/s]\n",
      "Evaluation: 100%|██████████| 100/100 [00:02<00:00, 44.60it/s]\n"
     ]
    },
    {
     "name": "stdout",
     "output_type": "stream",
     "text": [
      "Epoch [7/10] Train_Loss: 0.2469, Test_Loss: 0.3456, Test_acc: 88.85\n"
     ]
    },
    {
     "name": "stderr",
     "output_type": "stream",
     "text": [
      "Train: 100%|██████████| 600/600 [01:22<00:00,  7.23it/s]\n",
      "Evaluation: 100%|██████████| 100/100 [00:02<00:00, 45.35it/s]\n"
     ]
    },
    {
     "name": "stdout",
     "output_type": "stream",
     "text": [
      "Epoch [8/10] Train_Loss: 0.2324, Test_Loss: 0.3501, Test_acc: 88.66\n"
     ]
    },
    {
     "name": "stderr",
     "output_type": "stream",
     "text": [
      "Train:  43%|████▎     | 256/600 [00:35<00:47,  7.18it/s]\n"
     ]
    },
    {
     "ename": "KeyboardInterrupt",
     "evalue": "",
     "output_type": "error",
     "traceback": [
      "\u001b[0;31m---------------------------------------------------------------------------\u001b[0m",
      "\u001b[0;31mKeyboardInterrupt\u001b[0m                         Traceback (most recent call last)",
      "Cell \u001b[0;32mIn[21], line 30\u001b[0m\n\u001b[1;32m     28\u001b[0m \u001b[39mfor\u001b[39;00m x,y \u001b[39min\u001b[39;00m train_loader:\n\u001b[1;32m     29\u001b[0m     optimizer\u001b[39m.\u001b[39mzero_grad()\n\u001b[0;32m---> 30\u001b[0m     train_output \u001b[39m=\u001b[39m model(x\u001b[39m.\u001b[39;49mto(device))\n\u001b[1;32m     31\u001b[0m     train_loss \u001b[39m=\u001b[39m loss_func(train_output, y\u001b[39m.\u001b[39mto(device))\n\u001b[1;32m     32\u001b[0m     train_loss\u001b[39m.\u001b[39mbackward()\n",
      "File \u001b[0;32m/opt/anaconda3/envs/node/lib/python3.10/site-packages/torch/nn/modules/module.py:1488\u001b[0m, in \u001b[0;36mModule._call_impl\u001b[0;34m(self, *args, **kwargs)\u001b[0m\n\u001b[1;32m   1483\u001b[0m \u001b[39m# If we don't have any hooks, we want to skip the rest of the logic in\u001b[39;00m\n\u001b[1;32m   1484\u001b[0m \u001b[39m# this function, and just call forward.\u001b[39;00m\n\u001b[1;32m   1485\u001b[0m \u001b[39mif\u001b[39;00m \u001b[39mnot\u001b[39;00m (\u001b[39mself\u001b[39m\u001b[39m.\u001b[39m_backward_hooks \u001b[39mor\u001b[39;00m \u001b[39mself\u001b[39m\u001b[39m.\u001b[39m_backward_pre_hooks \u001b[39mor\u001b[39;00m \u001b[39mself\u001b[39m\u001b[39m.\u001b[39m_forward_hooks \u001b[39mor\u001b[39;00m \u001b[39mself\u001b[39m\u001b[39m.\u001b[39m_forward_pre_hooks\n\u001b[1;32m   1486\u001b[0m         \u001b[39mor\u001b[39;00m _global_backward_pre_hooks \u001b[39mor\u001b[39;00m _global_backward_hooks\n\u001b[1;32m   1487\u001b[0m         \u001b[39mor\u001b[39;00m _global_forward_hooks \u001b[39mor\u001b[39;00m _global_forward_pre_hooks):\n\u001b[0;32m-> 1488\u001b[0m     \u001b[39mreturn\u001b[39;00m forward_call(\u001b[39m*\u001b[39;49margs, \u001b[39m*\u001b[39;49m\u001b[39m*\u001b[39;49mkwargs)\n\u001b[1;32m   1489\u001b[0m \u001b[39m# Do not call functions when jit is used\u001b[39;00m\n\u001b[1;32m   1490\u001b[0m full_backward_hooks, non_full_backward_hooks \u001b[39m=\u001b[39m [], []\n",
      "Cell \u001b[0;32mIn[19], line 81\u001b[0m, in \u001b[0;36mResNet.forward\u001b[0;34m(self, x)\u001b[0m\n\u001b[1;32m     79\u001b[0m out \u001b[39m=\u001b[39m \u001b[39mself\u001b[39m\u001b[39m.\u001b[39mdownsample1(x)\n\u001b[1;32m     80\u001b[0m out \u001b[39m=\u001b[39m \u001b[39mself\u001b[39m\u001b[39m.\u001b[39mdownsample2(out)\n\u001b[0;32m---> 81\u001b[0m out \u001b[39m=\u001b[39m \u001b[39mself\u001b[39;49m\u001b[39m.\u001b[39;49mlayer1(out)\n\u001b[1;32m     82\u001b[0m out \u001b[39m=\u001b[39m \u001b[39mself\u001b[39m\u001b[39m.\u001b[39mlayer2(out)\n\u001b[1;32m     83\u001b[0m out \u001b[39m=\u001b[39m \u001b[39mself\u001b[39m\u001b[39m.\u001b[39mlayer3(out)\n",
      "File \u001b[0;32m/opt/anaconda3/envs/node/lib/python3.10/site-packages/torch/nn/modules/module.py:1488\u001b[0m, in \u001b[0;36mModule._call_impl\u001b[0;34m(self, *args, **kwargs)\u001b[0m\n\u001b[1;32m   1483\u001b[0m \u001b[39m# If we don't have any hooks, we want to skip the rest of the logic in\u001b[39;00m\n\u001b[1;32m   1484\u001b[0m \u001b[39m# this function, and just call forward.\u001b[39;00m\n\u001b[1;32m   1485\u001b[0m \u001b[39mif\u001b[39;00m \u001b[39mnot\u001b[39;00m (\u001b[39mself\u001b[39m\u001b[39m.\u001b[39m_backward_hooks \u001b[39mor\u001b[39;00m \u001b[39mself\u001b[39m\u001b[39m.\u001b[39m_backward_pre_hooks \u001b[39mor\u001b[39;00m \u001b[39mself\u001b[39m\u001b[39m.\u001b[39m_forward_hooks \u001b[39mor\u001b[39;00m \u001b[39mself\u001b[39m\u001b[39m.\u001b[39m_forward_pre_hooks\n\u001b[1;32m   1486\u001b[0m         \u001b[39mor\u001b[39;00m _global_backward_pre_hooks \u001b[39mor\u001b[39;00m _global_backward_hooks\n\u001b[1;32m   1487\u001b[0m         \u001b[39mor\u001b[39;00m _global_forward_hooks \u001b[39mor\u001b[39;00m _global_forward_pre_hooks):\n\u001b[0;32m-> 1488\u001b[0m     \u001b[39mreturn\u001b[39;00m forward_call(\u001b[39m*\u001b[39;49margs, \u001b[39m*\u001b[39;49m\u001b[39m*\u001b[39;49mkwargs)\n\u001b[1;32m   1489\u001b[0m \u001b[39m# Do not call functions when jit is used\u001b[39;00m\n\u001b[1;32m   1490\u001b[0m full_backward_hooks, non_full_backward_hooks \u001b[39m=\u001b[39m [], []\n",
      "File \u001b[0;32m/opt/anaconda3/envs/node/lib/python3.10/site-packages/torch/nn/modules/container.py:217\u001b[0m, in \u001b[0;36mSequential.forward\u001b[0;34m(self, input)\u001b[0m\n\u001b[1;32m    215\u001b[0m \u001b[39mdef\u001b[39;00m \u001b[39mforward\u001b[39m(\u001b[39mself\u001b[39m, \u001b[39minput\u001b[39m):\n\u001b[1;32m    216\u001b[0m     \u001b[39mfor\u001b[39;00m module \u001b[39min\u001b[39;00m \u001b[39mself\u001b[39m:\n\u001b[0;32m--> 217\u001b[0m         \u001b[39minput\u001b[39m \u001b[39m=\u001b[39m module(\u001b[39minput\u001b[39;49m)\n\u001b[1;32m    218\u001b[0m     \u001b[39mreturn\u001b[39;00m \u001b[39minput\u001b[39m\n",
      "File \u001b[0;32m/opt/anaconda3/envs/node/lib/python3.10/site-packages/torch/nn/modules/module.py:1488\u001b[0m, in \u001b[0;36mModule._call_impl\u001b[0;34m(self, *args, **kwargs)\u001b[0m\n\u001b[1;32m   1483\u001b[0m \u001b[39m# If we don't have any hooks, we want to skip the rest of the logic in\u001b[39;00m\n\u001b[1;32m   1484\u001b[0m \u001b[39m# this function, and just call forward.\u001b[39;00m\n\u001b[1;32m   1485\u001b[0m \u001b[39mif\u001b[39;00m \u001b[39mnot\u001b[39;00m (\u001b[39mself\u001b[39m\u001b[39m.\u001b[39m_backward_hooks \u001b[39mor\u001b[39;00m \u001b[39mself\u001b[39m\u001b[39m.\u001b[39m_backward_pre_hooks \u001b[39mor\u001b[39;00m \u001b[39mself\u001b[39m\u001b[39m.\u001b[39m_forward_hooks \u001b[39mor\u001b[39;00m \u001b[39mself\u001b[39m\u001b[39m.\u001b[39m_forward_pre_hooks\n\u001b[1;32m   1486\u001b[0m         \u001b[39mor\u001b[39;00m _global_backward_pre_hooks \u001b[39mor\u001b[39;00m _global_backward_hooks\n\u001b[1;32m   1487\u001b[0m         \u001b[39mor\u001b[39;00m _global_forward_hooks \u001b[39mor\u001b[39;00m _global_forward_pre_hooks):\n\u001b[0;32m-> 1488\u001b[0m     \u001b[39mreturn\u001b[39;00m forward_call(\u001b[39m*\u001b[39;49margs, \u001b[39m*\u001b[39;49m\u001b[39m*\u001b[39;49mkwargs)\n\u001b[1;32m   1489\u001b[0m \u001b[39m# Do not call functions when jit is used\u001b[39;00m\n\u001b[1;32m   1490\u001b[0m full_backward_hooks, non_full_backward_hooks \u001b[39m=\u001b[39m [], []\n",
      "Cell \u001b[0;32mIn[19], line 27\u001b[0m, in \u001b[0;36mResidualBlock.forward\u001b[0;34m(self, x)\u001b[0m\n\u001b[1;32m     25\u001b[0m out \u001b[39m=\u001b[39m \u001b[39mself\u001b[39m\u001b[39m.\u001b[39mbn1(out)\n\u001b[1;32m     26\u001b[0m out \u001b[39m=\u001b[39m \u001b[39mself\u001b[39m\u001b[39m.\u001b[39mrelu(out)\n\u001b[0;32m---> 27\u001b[0m out \u001b[39m=\u001b[39m \u001b[39mself\u001b[39;49m\u001b[39m.\u001b[39;49mconv2(out)\n\u001b[1;32m     28\u001b[0m out \u001b[39m=\u001b[39m \u001b[39mself\u001b[39m\u001b[39m.\u001b[39mbn2(out)\n\u001b[1;32m     29\u001b[0m out \u001b[39m+\u001b[39m\u001b[39m=\u001b[39m identity\n",
      "File \u001b[0;32m/opt/anaconda3/envs/node/lib/python3.10/site-packages/torch/nn/modules/module.py:1488\u001b[0m, in \u001b[0;36mModule._call_impl\u001b[0;34m(self, *args, **kwargs)\u001b[0m\n\u001b[1;32m   1483\u001b[0m \u001b[39m# If we don't have any hooks, we want to skip the rest of the logic in\u001b[39;00m\n\u001b[1;32m   1484\u001b[0m \u001b[39m# this function, and just call forward.\u001b[39;00m\n\u001b[1;32m   1485\u001b[0m \u001b[39mif\u001b[39;00m \u001b[39mnot\u001b[39;00m (\u001b[39mself\u001b[39m\u001b[39m.\u001b[39m_backward_hooks \u001b[39mor\u001b[39;00m \u001b[39mself\u001b[39m\u001b[39m.\u001b[39m_backward_pre_hooks \u001b[39mor\u001b[39;00m \u001b[39mself\u001b[39m\u001b[39m.\u001b[39m_forward_hooks \u001b[39mor\u001b[39;00m \u001b[39mself\u001b[39m\u001b[39m.\u001b[39m_forward_pre_hooks\n\u001b[1;32m   1486\u001b[0m         \u001b[39mor\u001b[39;00m _global_backward_pre_hooks \u001b[39mor\u001b[39;00m _global_backward_hooks\n\u001b[1;32m   1487\u001b[0m         \u001b[39mor\u001b[39;00m _global_forward_hooks \u001b[39mor\u001b[39;00m _global_forward_pre_hooks):\n\u001b[0;32m-> 1488\u001b[0m     \u001b[39mreturn\u001b[39;00m forward_call(\u001b[39m*\u001b[39;49margs, \u001b[39m*\u001b[39;49m\u001b[39m*\u001b[39;49mkwargs)\n\u001b[1;32m   1489\u001b[0m \u001b[39m# Do not call functions when jit is used\u001b[39;00m\n\u001b[1;32m   1490\u001b[0m full_backward_hooks, non_full_backward_hooks \u001b[39m=\u001b[39m [], []\n",
      "File \u001b[0;32m/opt/anaconda3/envs/node/lib/python3.10/site-packages/torch/nn/modules/conv.py:463\u001b[0m, in \u001b[0;36mConv2d.forward\u001b[0;34m(self, input)\u001b[0m\n\u001b[1;32m    462\u001b[0m \u001b[39mdef\u001b[39;00m \u001b[39mforward\u001b[39m(\u001b[39mself\u001b[39m, \u001b[39minput\u001b[39m: Tensor) \u001b[39m-\u001b[39m\u001b[39m>\u001b[39m Tensor:\n\u001b[0;32m--> 463\u001b[0m     \u001b[39mreturn\u001b[39;00m \u001b[39mself\u001b[39;49m\u001b[39m.\u001b[39;49m_conv_forward(\u001b[39minput\u001b[39;49m, \u001b[39mself\u001b[39;49m\u001b[39m.\u001b[39;49mweight, \u001b[39mself\u001b[39;49m\u001b[39m.\u001b[39;49mbias)\n",
      "File \u001b[0;32m/opt/anaconda3/envs/node/lib/python3.10/site-packages/torch/nn/modules/conv.py:459\u001b[0m, in \u001b[0;36mConv2d._conv_forward\u001b[0;34m(self, input, weight, bias)\u001b[0m\n\u001b[1;32m    455\u001b[0m \u001b[39mif\u001b[39;00m \u001b[39mself\u001b[39m\u001b[39m.\u001b[39mpadding_mode \u001b[39m!=\u001b[39m \u001b[39m'\u001b[39m\u001b[39mzeros\u001b[39m\u001b[39m'\u001b[39m:\n\u001b[1;32m    456\u001b[0m     \u001b[39mreturn\u001b[39;00m F\u001b[39m.\u001b[39mconv2d(F\u001b[39m.\u001b[39mpad(\u001b[39minput\u001b[39m, \u001b[39mself\u001b[39m\u001b[39m.\u001b[39m_reversed_padding_repeated_twice, mode\u001b[39m=\u001b[39m\u001b[39mself\u001b[39m\u001b[39m.\u001b[39mpadding_mode),\n\u001b[1;32m    457\u001b[0m                     weight, bias, \u001b[39mself\u001b[39m\u001b[39m.\u001b[39mstride,\n\u001b[1;32m    458\u001b[0m                     _pair(\u001b[39m0\u001b[39m), \u001b[39mself\u001b[39m\u001b[39m.\u001b[39mdilation, \u001b[39mself\u001b[39m\u001b[39m.\u001b[39mgroups)\n\u001b[0;32m--> 459\u001b[0m \u001b[39mreturn\u001b[39;00m F\u001b[39m.\u001b[39;49mconv2d(\u001b[39minput\u001b[39;49m, weight, bias, \u001b[39mself\u001b[39;49m\u001b[39m.\u001b[39;49mstride,\n\u001b[1;32m    460\u001b[0m                 \u001b[39mself\u001b[39;49m\u001b[39m.\u001b[39;49mpadding, \u001b[39mself\u001b[39;49m\u001b[39m.\u001b[39;49mdilation, \u001b[39mself\u001b[39;49m\u001b[39m.\u001b[39;49mgroups)\n",
      "\u001b[0;31mKeyboardInterrupt\u001b[0m: "
     ]
    }
   ],
   "source": [
    "import torch\n",
    "import torch.nn as nn\n",
    "import torch.optim as optim\n",
    "from torchvision import datasets, transforms\n",
    "from tqdm import tqdm \n",
    "import matplotlib.pyplot as plt\n",
    "\n",
    "# 하이퍼파라미터 설정\n",
    "\n",
    "EPOCH = 10\n",
    "LR = 1e-3\n",
    "accum_loss = 0\n",
    "train_loss_arr = []\n",
    "test_loss_arr = []\n",
    "accum_acc = 0\n",
    "acc_arr = []\n",
    "\n",
    "# 모델 초기화 및 손실 함수, 최적화 알고리즘 설정\n",
    "# model = ResNet(ResidualBlock, num_classes=10).to(device)\n",
    "model.to(device) # summary 함수는 모델을 cpu로 꺼내버림\n",
    "loss_func = nn.CrossEntropyLoss().to(device)\n",
    "optimizer = torch.optim.Adam(model.parameters(), lr=LR)\n",
    "\n",
    "# 모델 학습\n",
    "for epoch in range(EPOCH):\n",
    "    model.train()\n",
    "    with tqdm(total=len(train_loader), desc='Train') as pbar:\n",
    "        for x,y in train_loader:\n",
    "            optimizer.zero_grad()\n",
    "            train_output = model(x.to(device))\n",
    "            train_loss = loss_func(train_output, y.to(device))\n",
    "            train_loss.backward()\n",
    "            optimizer.step()\n",
    "            pbar.update(1)\n",
    "            accum_loss += train_loss.cpu().item()\n",
    "    cur_train_loss = accum_loss/len(train_loader) # (아마도) loss는 미니배치 한 개에 들어있는 데이터 개수 만큼의 loss를 의미할 것임.\n",
    "    train_loss_arr.append(cur_train_loss)\n",
    "    accum_loss = 0\n",
    "        \n",
    "    model.eval()\n",
    "    with torch.no_grad():\n",
    "        with tqdm(total=len(test_loader), desc='Evaluation') as pbar:\n",
    "            for x,y in test_loader:\n",
    "                test_output = model(x.to(device))\n",
    "                test_loss = loss_func(test_output, y.to(device))\n",
    "                accum_loss += test_loss.cpu().item()\n",
    "                max_prob, pred_idx = torch.max(test_output.data, 1)\n",
    "                accum_acc += (pred_idx.cpu() == y).sum().item()\n",
    "                pbar.update(1)\n",
    "    cur_test_loss = accum_loss/len(test_loader)\n",
    "    test_loss_arr.append(cur_test_loss)\n",
    "    cur_acc = 100*accum_acc/len(test_loader.dataset)\n",
    "    acc_arr.append(cur_acc)\n",
    "    accum_loss = 0\n",
    "    accum_acc = 0\n",
    "    print(\"Epoch [{}/{}] Train_Loss: {:.4f}, Test_Loss: {:.4f}, Test_acc: {:.2f}\".format(epoch+1, EPOCH, cur_train_loss,cur_test_loss, cur_acc))\n",
    "    "
   ]
  }
 ],
 "metadata": {
  "kernelspec": {
   "display_name": "node",
   "language": "python",
   "name": "python3"
  },
  "language_info": {
   "codemirror_mode": {
    "name": "ipython",
    "version": 3
   },
   "file_extension": ".py",
   "mimetype": "text/x-python",
   "name": "python",
   "nbconvert_exporter": "python",
   "pygments_lexer": "ipython3",
   "version": "3.10.9"
  },
  "orig_nbformat": 4,
  "vscode": {
   "interpreter": {
    "hash": "f6dd46818a2bcfb695c5511c3e5d8d6ff3d846474524cbf2f80389d5de7d8235"
   }
  }
 },
 "nbformat": 4,
 "nbformat_minor": 2
}
