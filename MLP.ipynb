{
 "cells": [
  {
   "cell_type": "code",
   "execution_count": 17,
   "metadata": {},
   "outputs": [
    {
     "name": "stdout",
     "output_type": "stream",
     "text": [
      "Current Device : mps\n"
     ]
    }
   ],
   "source": [
    "import torch\n",
    "import torchvision.transforms as transforms # MNIST 데이터를 텐서 형태로 바꾸기 위해\n",
    "import torch.nn.init\n",
    "\n",
    "device = None\n",
    "if torch.backends.mps.is_available():\n",
    "    device = torch.device('mps')\n",
    "elif torch.cuda.is_available():\n",
    "    device = torch.device('cuda')\n",
    "else:\n",
    "    device = torch.device('cpu')\n",
    "\n",
    "# 랜덤 시드 고정\n",
    "torch.cuda.manual_seed_all(777)\n",
    "\n",
    "# 현재 디바이스가 무엇인지?\n",
    "print('Current Device : ' + str(device))"
   ]
  },
  {
   "cell_type": "code",
   "execution_count": 1,
   "metadata": {},
   "outputs": [
    {
     "name": "stdout",
     "output_type": "stream",
     "text": [
      "Dataset MNIST\n",
      "    Number of datapoints: 60000\n",
      "    Root location: /Users/leejunseo/NODE\n",
      "    Split: Train\n",
      "Dataset MNIST\n",
      "    Number of datapoints: 10000\n",
      "    Root location: /Users/leejunseo/NODE\n",
      "    Split: Test\n"
     ]
    }
   ],
   "source": [
    "import os\n",
    "import torchvision.datasets as dsets # 이 안에 MNIST 있다\n",
    "\n",
    "if os.path.exists('MNIST'):\n",
    "    mnist_train = dsets.MNIST(root=str(os.getcwd()), train=True, transform=transforms.ToTensor(), download=False)\n",
    "    mnist_test = dsets.MNIST(root=str(os.getcwd()), train=False, transform=transforms.ToTensor(), download=False)\n",
    "else: # MNIST 데이터 다운로드\n",
    "    mnist_train = dsets.MNIST(root=str(os.getcwd()), train=True, transform=transforms.ToTensor(), download=True)\n",
    "    mnist_test = dsets.MNIST(root=str(os.getcwd()), train=False, transform=transforms.ToTensor(), download=True)\n",
    "\n",
    "print(mnist_train)\n",
    "print(mnist_test)"
   ]
  },
  {
   "cell_type": "code",
   "execution_count": 19,
   "metadata": {},
   "outputs": [],
   "source": [
    "BATCH_SIZE = 100\n",
    "train_loader = torch.utils.data.DataLoader(dataset=mnist_train, batch_size=BATCH_SIZE, shuffle=True, drop_last=True)\n",
    "test_loader = torch.utils.data.DataLoader(dataset=mnist_test, batch_size=BATCH_SIZE, shuffle=True, drop_last=True)"
   ]
  },
  {
   "cell_type": "code",
   "execution_count": 33,
   "metadata": {},
   "outputs": [
    {
     "name": "stderr",
     "output_type": "stream",
     "text": [
      "/opt/anaconda3/envs/node/lib/python3.10/site-packages/torchinfo/torchinfo.py:462: UserWarning: TypedStorage is deprecated. It will be removed in the future and UntypedStorage will be the only storage class. This should only matter to you if you are using storages directly.  To access UntypedStorage directly, use tensor.untyped_storage() instead of tensor.storage()\n",
      "  action_fn=lambda data: sys.getsizeof(data.storage()),\n",
      "/opt/anaconda3/envs/node/lib/python3.10/site-packages/torch/storage.py:665: UserWarning: TypedStorage is deprecated. It will be removed in the future and UntypedStorage will be the only storage class. This should only matter to you if you are using storages directly.  To access UntypedStorage directly, use tensor.untyped_storage() instead of tensor.storage()\n",
      "  return super(TypedStorage, self).__sizeof__() + self.nbytes()\n"
     ]
    },
    {
     "data": {
      "text/plain": [
       "==========================================================================================\n",
       "Layer (type:depth-idx)                   Output Shape              Param #\n",
       "==========================================================================================\n",
       "MLP                                      [100, 10]                 --\n",
       "├─Flatten: 1-1                           [100, 784]                --\n",
       "├─Linear: 1-2                            [100, 300]                235,500\n",
       "├─ReLU: 1-3                              [100, 300]                --\n",
       "├─Linear: 1-4                            [100, 10]                 3,010\n",
       "├─Softmax: 1-5                           [100, 10]                 --\n",
       "==========================================================================================\n",
       "Total params: 238,510\n",
       "Trainable params: 238,510\n",
       "Non-trainable params: 0\n",
       "Total mult-adds (M): 23.85\n",
       "==========================================================================================\n",
       "Input size (MB): 0.31\n",
       "Forward/backward pass size (MB): 0.25\n",
       "Params size (MB): 0.95\n",
       "Estimated Total Size (MB): 1.52\n",
       "=========================================================================================="
      ]
     },
     "execution_count": 33,
     "metadata": {},
     "output_type": "execute_result"
    }
   ],
   "source": [
    "from torchinfo import summary\n",
    "\n",
    "class MLP(torch.nn.Module):\n",
    "    def __init__(self):\n",
    "        super(MLP, self).__init__()\n",
    "        self.flatten = torch.nn.Flatten()\n",
    "        self.fc1 = torch.nn.Linear(784, 300)\n",
    "        self.relu = torch.nn.ReLU()\n",
    "        self.fc2 = torch.nn.Linear(300,10)\n",
    "        self.softmax = torch.nn.Softmax(dim=1)\n",
    "    def forward(self, input):\n",
    "        temp = self.flatten(input)\n",
    "        temp = self.fc1(temp)\n",
    "        temp = self.relu(temp)\n",
    "        temp = self.fc2(temp)\n",
    "        output = self.softmax(temp)\n",
    "        return output\n",
    "    \n",
    "model = MLP()\n",
    "model.to(device)\n",
    "summary(model, (100,1,28,28))"
   ]
  },
  {
   "cell_type": "code",
   "execution_count": 30,
   "metadata": {},
   "outputs": [],
   "source": [
    "def save_model(model: torch.nn.Module, name:str):\n",
    "    path = './' + name + '.pth'\n",
    "    torch.save(model.state_dict(), path)\n",
    "\n",
    "def testAccuracy(model:torch.nn.Module, test_loader):\n",
    "    model.eval()\n",
    "    accuracy = 0.0\n",
    "    total = 0.0\n",
    "    with torch.no_grad():\n",
    "        for data in test_loader:\n",
    "            images, labels = data\n",
    "            # run the model on the test set to predict labels\n",
    "            outputs = model(images)\n",
    "            # the label with the highest energy will be our prediction\n",
    "            _, predicted = torch.max(outputs.data, 1)\n",
    "            total += labels.size(0)\n",
    "            accuracy += (predicted == labels).sum().item()\n",
    "    # compute the accuracy over all test images\n",
    "    accuracy = (100 * accuracy / total)\n",
    "    return(accuracy)\n"
   ]
  },
  {
   "cell_type": "code",
   "execution_count": 31,
   "metadata": {},
   "outputs": [
    {
     "name": "stderr",
     "output_type": "stream",
     "text": [
      "Train: 100%|██████████| 600/600 [00:09<00:00, 61.31it/s]\n",
      "Evaluation: 100%|██████████| 100/100 [00:00<00:00, 107.29it/s]\n"
     ]
    },
    {
     "name": "stdout",
     "output_type": "stream",
     "text": [
      "Epoch [1/10] Train_Loss: 1.6019, Test_Loss: 1.5329, Test_acc: 93.56\n"
     ]
    },
    {
     "name": "stderr",
     "output_type": "stream",
     "text": [
      "Train: 100%|██████████| 600/600 [00:09<00:00, 65.59it/s]\n",
      "Evaluation: 100%|██████████| 100/100 [00:00<00:00, 108.53it/s]\n"
     ]
    },
    {
     "name": "stdout",
     "output_type": "stream",
     "text": [
      "Epoch [2/10] Train_Loss: 1.5255, Test_Loss: 1.5165, Test_acc: 94.94\n"
     ]
    },
    {
     "name": "stderr",
     "output_type": "stream",
     "text": [
      "Train: 100%|██████████| 600/600 [00:09<00:00, 65.60it/s]\n",
      "Evaluation: 100%|██████████| 100/100 [00:00<00:00, 107.21it/s]\n"
     ]
    },
    {
     "name": "stdout",
     "output_type": "stream",
     "text": [
      "Epoch [3/10] Train_Loss: 1.5083, Test_Loss: 1.5067, Test_acc: 95.92\n"
     ]
    },
    {
     "name": "stderr",
     "output_type": "stream",
     "text": [
      "Train: 100%|██████████| 600/600 [00:09<00:00, 64.72it/s]\n",
      "Evaluation: 100%|██████████| 100/100 [00:00<00:00, 108.44it/s]\n"
     ]
    },
    {
     "name": "stdout",
     "output_type": "stream",
     "text": [
      "Epoch [4/10] Train_Loss: 1.4994, Test_Loss: 1.4991, Test_acc: 96.50\n"
     ]
    },
    {
     "name": "stderr",
     "output_type": "stream",
     "text": [
      "Train: 100%|██████████| 600/600 [00:09<00:00, 65.72it/s]\n",
      "Evaluation: 100%|██████████| 100/100 [00:00<00:00, 108.11it/s]\n"
     ]
    },
    {
     "name": "stdout",
     "output_type": "stream",
     "text": [
      "Epoch [5/10] Train_Loss: 1.4923, Test_Loss: 1.4944, Test_acc: 96.87\n"
     ]
    },
    {
     "name": "stderr",
     "output_type": "stream",
     "text": [
      "Train: 100%|██████████| 600/600 [00:09<00:00, 65.67it/s]\n",
      "Evaluation: 100%|██████████| 100/100 [00:00<00:00, 107.85it/s]\n"
     ]
    },
    {
     "name": "stdout",
     "output_type": "stream",
     "text": [
      "Epoch [6/10] Train_Loss: 1.4872, Test_Loss: 1.4944, Test_acc: 96.98\n"
     ]
    },
    {
     "name": "stderr",
     "output_type": "stream",
     "text": [
      "Train: 100%|██████████| 600/600 [00:09<00:00, 64.20it/s]\n",
      "Evaluation: 100%|██████████| 100/100 [00:00<00:00, 108.09it/s]\n"
     ]
    },
    {
     "name": "stdout",
     "output_type": "stream",
     "text": [
      "Epoch [7/10] Train_Loss: 1.4837, Test_Loss: 1.4886, Test_acc: 97.44\n"
     ]
    },
    {
     "name": "stderr",
     "output_type": "stream",
     "text": [
      "Train: 100%|██████████| 600/600 [00:09<00:00, 65.46it/s]\n",
      "Evaluation: 100%|██████████| 100/100 [00:00<00:00, 111.34it/s]\n"
     ]
    },
    {
     "name": "stdout",
     "output_type": "stream",
     "text": [
      "Epoch [8/10] Train_Loss: 1.4811, Test_Loss: 1.4880, Test_acc: 97.44\n"
     ]
    },
    {
     "name": "stderr",
     "output_type": "stream",
     "text": [
      "Train: 100%|██████████| 600/600 [00:09<00:00, 64.92it/s]\n",
      "Evaluation: 100%|██████████| 100/100 [00:00<00:00, 103.78it/s]\n"
     ]
    },
    {
     "name": "stdout",
     "output_type": "stream",
     "text": [
      "Epoch [9/10] Train_Loss: 1.4792, Test_Loss: 1.4852, Test_acc: 97.80\n"
     ]
    },
    {
     "name": "stderr",
     "output_type": "stream",
     "text": [
      "Train: 100%|██████████| 600/600 [00:09<00:00, 64.33it/s]\n",
      "Evaluation: 100%|██████████| 100/100 [00:00<00:00, 107.36it/s]"
     ]
    },
    {
     "name": "stdout",
     "output_type": "stream",
     "text": [
      "Epoch [10/10] Train_Loss: 1.4769, Test_Loss: 1.4848, Test_acc: 97.77\n"
     ]
    },
    {
     "name": "stderr",
     "output_type": "stream",
     "text": [
      "\n"
     ]
    }
   ],
   "source": [
    "from tqdm import tqdm\n",
    "import matplotlib.pyplot as plt\n",
    "\n",
    "# 학습\n",
    "EPOCH = 10\n",
    "LR = 1e-3\n",
    "accum_loss = 0\n",
    "train_loss_arr = []\n",
    "test_loss_arr = []\n",
    "accum_acc = 0\n",
    "acc_arr = []\n",
    "\n",
    "loss_func = torch.nn.CrossEntropyLoss().to(device)\n",
    "optimizer = torch.optim.Adam(model.parameters(), lr=LR)\n",
    "\n",
    "for epoch in range(EPOCH):\n",
    "    model.train()\n",
    "    with tqdm(total=len(train_loader), desc='Train') as pbar:\n",
    "        for x,y in train_loader:\n",
    "            train_output = model(x.to(device))\n",
    "            optimizer.zero_grad()\n",
    "            train_loss = loss_func(train_output, y.to(device))\n",
    "            train_loss.backward()\n",
    "            accum_loss += train_loss.cpu().item()\n",
    "            optimizer.step()\n",
    "            pbar.update(1)\n",
    "    cur_train_loss = accum_loss/len(train_loader) # (아마도) loss는 미니배치 한 개에 들어있는 데이터 개수 만큼의 loss를 의미할 것임.\n",
    "    train_loss_arr.append(cur_train_loss)\n",
    "    accum_loss = 0\n",
    "        \n",
    "    model.eval()\n",
    "    with torch.no_grad():\n",
    "        with tqdm(total=len(test_loader), desc='Evaluation') as pbar:\n",
    "            for x,y in test_loader:\n",
    "                test_output = model(x.to(device))\n",
    "                test_loss = loss_func(test_output, y.to(device))\n",
    "                accum_loss += test_loss.cpu().item()\n",
    "                max_prob, pred_idx = torch.max(test_output.data, 1)\n",
    "                accum_acc += (pred_idx.cpu() == y).sum().item()\n",
    "                pbar.update(1)\n",
    "    cur_test_loss = accum_loss/len(test_loader)\n",
    "    test_loss_arr.append(cur_test_loss)\n",
    "    cur_acc = 100*accum_acc/len(test_loader.dataset)\n",
    "    acc_arr.append(cur_acc)\n",
    "    accum_loss = 0\n",
    "    accum_acc = 0\n",
    "    print(\"Epoch [{}/{}] Train_Loss: {:.4f}, Test_Loss: {:.4f}, Test_acc: {:.2f}\".format(epoch+1, EPOCH, cur_train_loss,cur_test_loss, cur_acc))\n"
   ]
  },
  {
   "cell_type": "code",
   "execution_count": 32,
   "metadata": {},
   "outputs": [
    {
     "data": {
      "image/png": "[encoded data removed]",
      "text/plain": [
       "<Figure size 640x480 with 3 Axes>"
      ]
     },
     "metadata": {},
     "output_type": "display_data"
    }
   ],
   "source": [
    "plt.subplot(3,1,1)\n",
    "plt.plot(range(len(train_loss_arr)), train_loss_arr)\n",
    "plt.title('train_loss')\n",
    "plt.subplot(3,1,2)\n",
    "plt.plot(range(len(test_loss_arr)), test_loss_arr)\n",
    "plt.title('test_loss')\n",
    "plt.subplot(3,1,3)\n",
    "plt.plot(range(len(acc_arr)), acc_arr)\n",
    "plt.title('test_accuracy')\n",
    "plt.tight_layout()\n",
    "plt.show()"
   ]
  }
 ],
 "metadata": {
  "kernelspec": {
   "display_name": "node",
   "language": "python",
   "name": "python3"
  },
  "language_info": {
   "codemirror_mode": {
    "name": "ipython",
    "version": 3
   },
   "file_extension": ".py",
   "mimetype": "text/x-python",
   "name": "python",
   "nbconvert_exporter": "python",
   "pygments_lexer": "ipython3",
   "version": "3.10.9"
  },
  "orig_nbformat": 4,
  "vscode": {
   "interpreter": {
    "hash": "f6dd46818a2bcfb695c5511c3e5d8d6ff3d846474524cbf2f80389d5de7d8235"
   }
  }
 },
 "nbformat": 4,
 "nbformat_minor": 2
}
