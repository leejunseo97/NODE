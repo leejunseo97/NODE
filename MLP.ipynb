{
 "cells": [
  {
   "cell_type": "code",
   "execution_count": 26,
   "metadata": {},
   "outputs": [
    {
     "name": "stdout",
     "output_type": "stream",
     "text": [
      "Current Device : mps\n"
     ]
    }
   ],
   "source": [
    "import torch\n",
    "import torchvision.transforms as transforms # MNIST 데이터를 텐서 형태로 바꾸기 위해\n",
    "import torch.nn.init\n",
    "\n",
    "device = None\n",
    "if torch.backends.mps.is_available():\n",
    "    device = torch.device('mps')\n",
    "elif torch.cuda.is_available():\n",
    "    device = torch.device('cuda')\n",
    "else:\n",
    "    device = torch.device('cpu')\n",
    "\n",
    "# 랜덤 시드 고정\n",
    "torch.cuda.manual_seed_all(777)\n",
    "\n",
    "# 현재 디바이스가 무엇인지?\n",
    "print('Current Device : ' + str(device))"
   ]
  },
  {
   "cell_type": "code",
   "execution_count": 27,
   "metadata": {},
   "outputs": [
    {
     "name": "stdout",
     "output_type": "stream",
     "text": [
      "Dataset MNIST\n",
      "    Number of datapoints: 60000\n",
      "    Root location: /Users/leejunseo/NODE\n",
      "    Split: Train\n",
      "    StandardTransform\n",
      "Transform: ToTensor()\n",
      "Dataset MNIST\n",
      "    Number of datapoints: 10000\n",
      "    Root location: /Users/leejunseo/NODE\n",
      "    Split: Test\n",
      "    StandardTransform\n",
      "Transform: ToTensor()\n"
     ]
    }
   ],
   "source": [
    "import os\n",
    "import torchvision.datasets as dsets # 이 안에 MNIST 있다\n",
    "\n",
    "if os.path.exists('MNIST'):\n",
    "    mnist_train = dsets.MNIST(root=str(os.getcwd()), train=True, transform=transforms.ToTensor(), download=False)\n",
    "    mnist_test = dsets.MNIST(root=str(os.getcwd()), train=False, transform=transforms.ToTensor(), download=False)\n",
    "else: # MNIST 데이터 다운로드\n",
    "    mnist_train = dsets.MNIST(root=str(os.getcwd()), train=True, transform=transforms.ToTensor(), download=True)\n",
    "    mnist_test = dsets.MNIST(root=str(os.getcwd()), train=False, transform=transforms.ToTensor(), download=True)\n",
    "\n",
    "print(mnist_train)\n",
    "print(mnist_test)"
   ]
  },
  {
   "cell_type": "code",
   "execution_count": 28,
   "metadata": {},
   "outputs": [],
   "source": [
    "BATCH_SIZE = 100\n",
    "train_loader = torch.utils.data.DataLoader(dataset=mnist_train, batch_size=BATCH_SIZE, shuffle=True, drop_last=True)\n",
    "test_loader = torch.utils.data.DataLoader(dataset=mnist_test, batch_size=BATCH_SIZE, shuffle=True, drop_last=True)"
   ]
  },
  {
   "cell_type": "code",
   "execution_count": 29,
   "metadata": {},
   "outputs": [
    {
     "data": {
      "text/plain": [
       "MLP(\n",
       "  (flatten): Flatten(start_dim=1, end_dim=-1)\n",
       "  (fc1): Linear(in_features=784, out_features=32, bias=True)\n",
       "  (relu): ReLU()\n",
       "  (fc2): Linear(in_features=32, out_features=10, bias=True)\n",
       "  (softmax): Softmax(dim=1)\n",
       ")"
      ]
     },
     "execution_count": 29,
     "metadata": {},
     "output_type": "execute_result"
    }
   ],
   "source": [
    "from torchinfo import summary\n",
    "\n",
    "class MLP(torch.nn.Module):\n",
    "    def __init__(self):\n",
    "        super(MLP, self).__init__()\n",
    "        self.flatten = torch.nn.Flatten()\n",
    "        self.fc1 = torch.nn.Linear(784, 32)\n",
    "        self.relu = torch.nn.ReLU()\n",
    "        self.fc2 = torch.nn.Linear(32,10)\n",
    "        self.softmax = torch.nn.Softmax(dim=1)\n",
    "    def forward(self, input):\n",
    "        temp = self.flatten(input)\n",
    "        temp = self.fc1(temp)\n",
    "        temp = self.relu(temp)\n",
    "        temp = self.fc2(temp)\n",
    "        output = self.softmax(temp)\n",
    "        return output\n",
    "    \n",
    "model = MLP()\n",
    "model.to(device)\n",
    "# summary(model, (100,1,28,28))"
   ]
  },
  {
   "cell_type": "code",
   "execution_count": 30,
   "metadata": {},
   "outputs": [
    {
     "name": "stderr",
     "output_type": "stream",
     "text": [
      "Train: 100%|██████████| 600/600 [00:11<00:00, 51.93it/s]\n",
      "Evaluation: 100%|██████████| 100/100 [00:00<00:00, 115.17it/s]\n"
     ]
    },
    {
     "name": "stdout",
     "output_type": "stream",
     "text": [
      "Epoch:0, Loss:1.82494056, Valid_Loss:1.81229830\n"
     ]
    },
    {
     "name": "stderr",
     "output_type": "stream",
     "text": [
      "Train: 100%|██████████| 600/600 [00:08<00:00, 66.99it/s]\n",
      "Evaluation: 100%|██████████| 100/100 [00:00<00:00, 112.81it/s]\n"
     ]
    },
    {
     "name": "stdout",
     "output_type": "stream",
     "text": [
      "Epoch:1, Loss:1.67724848, Valid_Loss:1.66740692\n"
     ]
    },
    {
     "name": "stderr",
     "output_type": "stream",
     "text": [
      "Train: 100%|██████████| 600/600 [00:09<00:00, 66.56it/s]\n",
      "Evaluation: 100%|██████████| 100/100 [00:00<00:00, 114.55it/s]\n"
     ]
    },
    {
     "name": "stdout",
     "output_type": "stream",
     "text": [
      "Epoch:2, Loss:1.64943480, Valid_Loss:1.65551245\n"
     ]
    },
    {
     "name": "stderr",
     "output_type": "stream",
     "text": [
      "Train: 100%|██████████| 600/600 [00:09<00:00, 63.78it/s]\n",
      "Evaluation: 100%|██████████| 100/100 [00:00<00:00, 111.29it/s]\n"
     ]
    },
    {
     "name": "stdout",
     "output_type": "stream",
     "text": [
      "Epoch:3, Loss:1.61205184, Valid_Loss:1.65638518\n"
     ]
    },
    {
     "name": "stderr",
     "output_type": "stream",
     "text": [
      "Train: 100%|██████████| 600/600 [00:09<00:00, 66.63it/s]\n",
      "Evaluation: 100%|██████████| 100/100 [00:00<00:00, 115.77it/s]\n"
     ]
    },
    {
     "name": "stdout",
     "output_type": "stream",
     "text": [
      "Epoch:4, Loss:1.56648862, Valid_Loss:1.58579588\n"
     ]
    },
    {
     "name": "stderr",
     "output_type": "stream",
     "text": [
      "Train: 100%|██████████| 600/600 [00:09<00:00, 63.96it/s]\n",
      "Evaluation: 100%|██████████| 100/100 [00:00<00:00, 106.72it/s]\n"
     ]
    },
    {
     "name": "stdout",
     "output_type": "stream",
     "text": [
      "Epoch:5, Loss:1.60010159, Valid_Loss:1.54609191\n"
     ]
    },
    {
     "name": "stderr",
     "output_type": "stream",
     "text": [
      "Train: 100%|██████████| 600/600 [00:09<00:00, 64.78it/s]\n",
      "Evaluation: 100%|██████████| 100/100 [00:00<00:00, 115.79it/s]\n"
     ]
    },
    {
     "name": "stdout",
     "output_type": "stream",
     "text": [
      "Epoch:6, Loss:1.59913814, Valid_Loss:1.57488227\n"
     ]
    },
    {
     "name": "stderr",
     "output_type": "stream",
     "text": [
      "Train: 100%|██████████| 600/600 [00:08<00:00, 66.73it/s]\n",
      "Evaluation: 100%|██████████| 100/100 [00:00<00:00, 110.27it/s]\n"
     ]
    },
    {
     "name": "stdout",
     "output_type": "stream",
     "text": [
      "Epoch:7, Loss:1.59974885, Valid_Loss:1.59914100\n"
     ]
    },
    {
     "name": "stderr",
     "output_type": "stream",
     "text": [
      "Train: 100%|██████████| 600/600 [00:09<00:00, 64.00it/s]\n",
      "Evaluation: 100%|██████████| 100/100 [00:00<00:00, 113.58it/s]\n"
     ]
    },
    {
     "name": "stdout",
     "output_type": "stream",
     "text": [
      "Epoch:8, Loss:1.55272949, Valid_Loss:1.57194543\n"
     ]
    },
    {
     "name": "stderr",
     "output_type": "stream",
     "text": [
      "Train: 100%|██████████| 600/600 [00:09<00:00, 63.73it/s]\n",
      "Evaluation: 100%|██████████| 100/100 [00:00<00:00, 109.03it/s]"
     ]
    },
    {
     "name": "stdout",
     "output_type": "stream",
     "text": [
      "Epoch:9, Loss:1.55702591, Valid_Loss:1.57906950\n"
     ]
    },
    {
     "name": "stderr",
     "output_type": "stream",
     "text": [
      "\n"
     ]
    }
   ],
   "source": [
    "from tqdm import tqdm\n",
    "import matplotlib.pyplot as plt\n",
    "\n",
    "# 학습\n",
    "EPOCH = 10\n",
    "LR = 1e-3\n",
    "train_loss_arr = []\n",
    "test_loss_arr = []\n",
    "\n",
    "loss_func = torch.nn.CrossEntropyLoss().to(device)\n",
    "optimizer = torch.optim.Adam(model.parameters(), lr=LR)\n",
    "\n",
    "for epoch in range(EPOCH):\n",
    "    model.train()\n",
    "    with tqdm(total=len(train_loader), desc='Train') as pbar:\n",
    "        for x,y in train_loader:\n",
    "            train_output = model(x.to(device))\n",
    "            optimizer.zero_grad()\n",
    "            train_loss = loss_func(train_output, y.to(device))\n",
    "            train_loss.backward()\n",
    "            optimizer.step()\n",
    "            pbar.update(1)\n",
    "            train_loss_arr.append(train_loss.cpu().item())\n",
    "    model.eval()\n",
    "    with torch.no_grad():\n",
    "        with tqdm(total=len(test_loader), desc='Evaluation') as pbar:\n",
    "            for x,y in test_loader:\n",
    "                test_output = model(x.to(device))\n",
    "                test_loss = loss_func(test_output, y.to(device))\n",
    "                pbar.update(1)\n",
    "                test_loss_arr.append(test_loss.cpu().item())\n",
    "    print(\"Epoch:%d, Loss:%1.8f, Valid_Loss:%1.8f\" %(epoch, train_loss.cpu().item(), test_loss.cpu().item()))\n"
   ]
  },
  {
   "cell_type": "code",
   "execution_count": 56,
   "metadata": {},
   "outputs": [
    {
     "data": {
      "image/png": "[encoded data removed]",
      "text/plain": [
       "<Figure size 640x480 with 2 Axes>"
      ]
     },
     "metadata": {},
     "output_type": "display_data"
    }
   ],
   "source": [
    "plt.subplot(2,1,1)\n",
    "plt.plot(range(len(train_loss_arr)), train_loss_arr)\n",
    "plt.title('train_loss')\n",
    "plt.subplot(2,1,2)\n",
    "plt.plot(range(len(test_loss_arr)), test_loss_arr)\n",
    "plt.title('test_loss')\n",
    "plt.tight_layout()\n",
    "plt.show()"
   ]
  },
  {
   "cell_type": "code",
   "execution_count": 55,
   "metadata": {},
   "outputs": [
    {
     "name": "stdout",
     "output_type": "stream",
     "text": [
      "1 1\n"
     ]
    }
   ],
   "source": [
    "import matplotlib as mlp\n",
    "import matplotlib.pyplot as plt\n",
    "import numpy as np\n",
    "\n",
    "x = mnist_test.__getitem__(2)[0].to(device)\n",
    "y = mnist_test.__getitem__(2)[1]\n",
    "\n",
    "\n",
    "o = model(x).cpu().view(-1).tolist()\n",
    "print(o.index(max(o)), y)\n",
    "\n"
   ]
  }
 ],
 "metadata": {
  "kernelspec": {
   "display_name": "node",
   "language": "python",
   "name": "python3"
  },
  "language_info": {
   "codemirror_mode": {
    "name": "ipython",
    "version": 3
   },
   "file_extension": ".py",
   "mimetype": "text/x-python",
   "name": "python",
   "nbconvert_exporter": "python",
   "pygments_lexer": "ipython3",
   "version": "3.10.9"
  },
  "orig_nbformat": 4,
  "vscode": {
   "interpreter": {
    "hash": "f6dd46818a2bcfb695c5511c3e5d8d6ff3d846474524cbf2f80389d5de7d8235"
   }
  }
 },
 "nbformat": 4,
 "nbformat_minor": 2
}
