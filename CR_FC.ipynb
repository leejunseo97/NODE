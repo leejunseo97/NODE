{
 "cells": [
  {
   "cell_type": "code",
   "execution_count": 8,
   "metadata": {},
   "outputs": [
    {
     "name": "stdout",
     "output_type": "stream",
     "text": [
      "Current Device : mps\n"
     ]
    }
   ],
   "source": [
    "import torch\n",
    "import torch.nn.init\n",
    "\n",
    "device = None\n",
    "if torch.backends.mps.is_available():\n",
    "    device = torch.device('mps')\n",
    "elif torch.cuda.is_available():\n",
    "    device = torch.device('cuda')\n",
    "else:\n",
    "    device = torch.device('cpu')\n",
    "\n",
    "# 랜덤 시드 고정\n",
    "torch.cuda.manual_seed_all(777)\n",
    "\n",
    "# 현재 디바이스가 무엇인지?\n",
    "print('Current Device : ' + str(device))"
   ]
  },
  {
   "cell_type": "code",
   "execution_count": 9,
   "metadata": {},
   "outputs": [
    {
     "name": "stdout",
     "output_type": "stream",
     "text": [
      "There is MNIST data.\n",
      "Dataset MNIST\n",
      "    Number of datapoints: 60000\n",
      "    Root location: /Users/ljs/NODE\n",
      "    Split: Train\n",
      "    StandardTransform\n",
      "Transform: ToTensor()\n",
      "Dataset MNIST\n",
      "    Number of datapoints: 10000\n",
      "    Root location: /Users/ljs/NODE\n",
      "    Split: Test\n",
      "    StandardTransform\n",
      "Transform: ToTensor()\n"
     ]
    }
   ],
   "source": [
    "import os\n",
    "import torchvision.transforms as transforms # MNIST 데이터를 텐서 형태로 바꾸기 위해\n",
    "import torchvision.datasets as dsets # 이 안에 MNIST 있다\n",
    "\n",
    "if os.path.exists('MNIST'):\n",
    "    print('There is MNIST data.')\n",
    "    train_raw = dsets.MNIST(root=str(os.getcwd()), train=True, transform=transforms.ToTensor(), download=False)\n",
    "    test_raw = dsets.MNIST(root=str(os.getcwd()), train=False, transform=transforms.ToTensor(), download=False)\n",
    "    # train_raw = dsets.MNIST(root=str(os.getcwd()), train=True, download=False)\n",
    "    # test_raw = dsets.MNIST(root=str(os.getcwd()), train=False, download=False)\n",
    "else: # MNIST 데이터 다운로드\n",
    "    print('There is no MNIST data.')\n",
    "    train_raw = dsets.MNIST(root=str(os.getcwd()), train=True, transform=transforms.ToTensor(), download=True)\n",
    "    test_raw = dsets.MNIST(root=str(os.getcwd()), train=False, transform=transforms.ToTensor(), download=True)\n",
    "\n",
    "print(train_raw)\n",
    "print(test_raw)"
   ]
  },
  {
   "cell_type": "code",
   "execution_count": 104,
   "metadata": {},
   "outputs": [],
   "source": [
    "from torch.utils.data import Dataset\n",
    "\n",
    "class Customdataset(Dataset):\n",
    "    def __init__(self, dataset:dsets.MNIST, quantization_level = 10) -> None:\n",
    "        self.origin_dataset = dataset\n",
    "        self.quantization_level = quantization_level\n",
    "        return None\n",
    "    \n",
    "    def quantize_tensor(self, tensor:torch.Tensor, levels:int) -> torch.Tensor:\n",
    "        min_value = tensor.min()\n",
    "        max_value = tensor.max()\n",
    "        quantized_tensor = tensor.clone()\n",
    "        quantized_tensor.sub_(min_value).div_(max_value - min_value + 1e-5).mul_(levels - 1).round_().div_(levels - 1).mul_(max_value - min_value + 1e-5).add_(min_value)\n",
    "        return quantized_tensor\n",
    "\n",
    "    def __len__(self):\n",
    "        return len(self.x) # x 길이랑 y 길이랑 같음.\n",
    "\n",
    "    def __getitem__(self, idx:int) -> tuple[torch.Tensor, torch.Tensor]:\n",
    "        data, label = self.origin_dataset[idx]\n",
    "        modified_data = self.quantize_tensor(data, self.quantization_level)\n",
    "        return modified_data, label\n",
    "        # return torch.from_numpy(self.x[idx]), torch.from_numpy(self.y[idx])\n",
    "\n",
    "train_custom = Customdataset(train_raw, quantization_level=10)\n",
    "test_custom = Customdataset(test_raw, quantization_level=10)\n"
   ]
  },
  {
   "cell_type": "code",
   "execution_count": 106,
   "metadata": {},
   "outputs": [
    {
     "data": {
      "image/png": "[encoded data removed]",
      "text/plain": [
       "<Figure size 640x480 with 1 Axes>"
      ]
     },
     "metadata": {},
     "output_type": "display_data"
    }
   ],
   "source": [
    "# 데이터에서 어떤 레벨의 값들이 많은지 확인\n",
    "import numpy as np\n",
    "import matplotlib.pyplot as plt\n",
    "\n",
    "temp = np.zeros(1)\n",
    "for idx, (data,label) in enumerate(test_custom):\n",
    "    temp = np.append(temp, data.view(-1).numpy())\n",
    "    if idx == 1000: break # 1000개만. 너무 많으면 동작 멈춰버리는듯?\n",
    "\n",
    "plt.hist(temp, bins=20, edgecolor='black') # Plot the histogram with 20 bins and black edges\n",
    "plt.title('Histogram of MNIST Data') # Add title to the plot\n",
    "plt.xlabel('Value') # Label the x-axis\n",
    "plt.ylabel('# of level') # Label the y-axis\n",
    "plt.show() # Display the plot"
   ]
  }
 ],
 "metadata": {
  "kernelspec": {
   "display_name": "node",
   "language": "python",
   "name": "python3"
  },
  "language_info": {
   "codemirror_mode": {
    "name": "ipython",
    "version": 3
   },
   "file_extension": ".py",
   "mimetype": "text/x-python",
   "name": "python",
   "nbconvert_exporter": "python",
   "pygments_lexer": "ipython3",
   "version": "3.10.9"
  },
  "orig_nbformat": 4,
  "vscode": {
   "interpreter": {
    "hash": "ae9f06d3aadcf6fbe26f5d73d05f6bdeb7d5e1d439ef385a776d559862b27e86"
   }
  }
 },
 "nbformat": 4,
 "nbformat_minor": 2
}
