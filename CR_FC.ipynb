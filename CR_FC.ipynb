{
 "cells": [
  {
   "cell_type": "code",
   "execution_count": 1,
   "metadata": {},
   "outputs": [
    {
     "name": "stdout",
     "output_type": "stream",
     "text": [
      "Current Device : mps\n"
     ]
    }
   ],
   "source": [
    "# 행렬 연산을 어떤 device에서 할지.\n",
    "import torch\n",
    "import torch.nn.init\n",
    "import numpy as np\n",
    "import os\n",
    "import random\n",
    "\n",
    "device = None\n",
    "if torch.backends.mps.is_available():\n",
    "    device = torch.device('mps')\n",
    "elif torch.cuda.is_available():\n",
    "    device = torch.device('cuda')\n",
    "else:\n",
    "    device = torch.device('cpu')\n",
    "\n",
    "# 일정한 실험을 위해 랜덤 시드 고정\n",
    "seed = 777\n",
    "torch.cuda.manual_seed_all(seed) \n",
    "random.seed(seed)\n",
    "os.environ['PYTHONHASHSEED'] = str(seed)\n",
    "np.random.seed(seed)\n",
    "torch.manual_seed(seed)\n",
    "torch.cuda.manual_seed(seed)\n",
    "torch.backends.cudnn.deterministic = True\n",
    "\n",
    "print('Current Device : ' + str(device))"
   ]
  },
  {
   "cell_type": "code",
   "execution_count": 2,
   "metadata": {},
   "outputs": [
    {
     "name": "stdout",
     "output_type": "stream",
     "text": [
      "There is MNIST data.\n",
      "Dataset MNIST\n",
      "    Number of datapoints: 60000\n",
      "    Root location: /Users/ljs/NODE\n",
      "    Split: Train\n",
      "    StandardTransform\n",
      "Transform: ToTensor()\n",
      "Dataset MNIST\n",
      "    Number of datapoints: 10000\n",
      "    Root location: /Users/ljs/NODE\n",
      "    Split: Test\n",
      "    StandardTransform\n",
      "Transform: ToTensor()\n"
     ]
    }
   ],
   "source": [
    "# MNIST 데이터셋 고정\n",
    "import os\n",
    "import torchvision.transforms as transforms # MNIST 데이터를 텐서 형태로 바꾸기 위해\n",
    "import torchvision.datasets as dsets # 이 안에 MNIST 있다\n",
    "\n",
    "if os.path.exists('MNIST'):\n",
    "    print('There is MNIST data.')\n",
    "    train_raw = dsets.MNIST(root=str(os.getcwd()), train=True, transform=transforms.ToTensor(), download=False)\n",
    "    test_raw = dsets.MNIST(root=str(os.getcwd()), train=False, transform=transforms.ToTensor(), download=False)\n",
    "    # train_raw = dsets.MNIST(root=str(os.getcwd()), train=True, download=False)\n",
    "    # test_raw = dsets.MNIST(root=str(os.getcwd()), train=False, download=False)\n",
    "else: # MNIST 데이터 다운로드\n",
    "    print('There is no MNIST data.')\n",
    "    train_raw = dsets.MNIST(root=str(os.getcwd()), train=True, transform=transforms.ToTensor(), download=True)\n",
    "    test_raw = dsets.MNIST(root=str(os.getcwd()), train=False, transform=transforms.ToTensor(), download=True)\n",
    "\n",
    "print(train_raw)\n",
    "print(test_raw)"
   ]
  },
  {
   "cell_type": "code",
   "execution_count": 3,
   "metadata": {},
   "outputs": [],
   "source": [
    "# MNIST 데이터셋을 원하는 레벨로 양자화 시켜 새로운 데이터셋을 만든다.\n",
    "\n",
    "from torch.utils.data import Dataset\n",
    "\n",
    "class Customdataset(Dataset):\n",
    "    def __init__(self, dataset:dsets.MNIST, quantization_level = 10) -> None:\n",
    "        super(Customdataset, self).__init__()\n",
    "        self.origin_dataset = dataset\n",
    "        self.quantization_level = quantization_level\n",
    "        return None\n",
    "    \n",
    "    def quantize_tensor(self, tensor:torch.Tensor, levels:int) -> torch.Tensor:\n",
    "        min_value = tensor.min()\n",
    "        max_value = tensor.max()\n",
    "        quantized_tensor = tensor.clone()\n",
    "        quantized_tensor.sub_(min_value).div_(max_value - min_value + 1e-5).mul_(levels - 1).round_().div_(levels - 1).mul_(max_value - min_value + 1e-5).add_(min_value)\n",
    "        return quantized_tensor\n",
    "\n",
    "    def __len__(self):\n",
    "        return len(self.origin_dataset) # 데이터셋 크기는 양자화 해도 그대로.\n",
    "\n",
    "    def __getitem__(self, idx:int) -> tuple[torch.Tensor, torch.Tensor]:\n",
    "        data, label = self.origin_dataset[idx]\n",
    "        modified_data = self.quantize_tensor(data, self.quantization_level)\n",
    "        return modified_data, label\n",
    "        # return torch.from_numpy(self.x[idx]), torch.from_numpy(self.y[idx])\n",
    "\n",
    "train_custom = Customdataset(train_raw, quantization_level=10)\n",
    "test_custom = Customdataset(test_raw, quantization_level=10)\n"
   ]
  },
  {
   "cell_type": "code",
   "execution_count": 4,
   "metadata": {},
   "outputs": [
    {
     "data": {
      "image/png": "[encoded data removed]",
      "text/plain": [
       "<Figure size 640x480 with 1 Axes>"
      ]
     },
     "metadata": {},
     "output_type": "display_data"
    }
   ],
   "source": [
    "# 데이터에서 어떤 레벨의 값들이 많은지 확인\n",
    "import numpy as np\n",
    "import matplotlib.pyplot as plt\n",
    "\n",
    "temp = np.zeros(1)\n",
    "for idx, (data,label) in enumerate(test_custom):\n",
    "    temp = np.append(temp, data.view(-1).numpy())\n",
    "    if idx == 1000: break # 1000개만. 너무 많으면 동작 멈춰버리는듯?\n",
    "\n",
    "plt.hist(temp, bins=20, edgecolor='black') # Plot the histogram with 20 bins and black edges\n",
    "plt.title('Histogram of MNIST Data') # Add title to the plot\n",
    "plt.xlabel('Value') # Label the x-axis\n",
    "plt.ylabel('# of level') # Label the y-axis\n",
    "plt.show() # Display the plot\n",
    "# 100개 데이터에 대해 확인해보았더니, 0,1 레벨 값이 제일 많더라.\n",
    "# 2개 레벨로 줄여버려야지."
   ]
  },
  {
   "cell_type": "code",
   "execution_count": 6,
   "metadata": {},
   "outputs": [
    {
     "name": "stdout",
     "output_type": "stream",
     "text": [
      "입력 데이터 형태:  torch.Size([100, 1, 28, 28])\n",
      "정답 데이터 형태:  torch.Size([100])\n"
     ]
    }
   ],
   "source": [
    "# 데이터셋 양자화 레벨 2로 조정 및 데이터로더 생성\n",
    "BATCH_SIZE = 100\n",
    "train_custom = Customdataset(train_raw, quantization_level=2)\n",
    "test_custom = Customdataset(test_raw, quantization_level=2)\n",
    "train_loader = torch.utils.data.DataLoader(dataset=train_custom, batch_size=BATCH_SIZE, shuffle=True, drop_last=True)\n",
    "test_loader = torch.utils.data.DataLoader(dataset=test_custom, batch_size=BATCH_SIZE, shuffle=True, drop_last=True)\n",
    "\n",
    "# 데이터 로더 동작 확인\n",
    "for x,y in train_loader:\n",
    "    print('입력 데이터 형태: ', x.shape)\n",
    "    print('정답 데이터 형태: ', y.shape)\n",
    "    break\n"
   ]
  },
  {
   "cell_type": "code",
   "execution_count": 30,
   "metadata": {},
   "outputs": [
    {
     "name": "stdout",
     "output_type": "stream",
     "text": [
      "output:  torch.Size([100, 10])\n"
     ]
    },
    {
     "data": {
      "text/plain": [
       "==========================================================================================\n",
       "Layer (type:depth-idx)                   Output Shape              Param #\n",
       "==========================================================================================\n",
       "CRFC                                     [100, 10]                 --\n",
       "├─Conv2d: 1-1                            [100, 1, 1, 28]           28\n",
       "├─ReLU: 1-2                              [100, 28]                 --\n",
       "├─Linear: 1-3                            [100, 10]                 280\n",
       "├─Conv2d: 1-4                            [100, 1, 1, 28]           28\n",
       "├─ReLU: 1-5                              [100, 28]                 --\n",
       "├─Linear: 1-6                            [100, 10]                 280\n",
       "├─Conv2d: 1-7                            [100, 1, 28, 1]           28\n",
       "├─ReLU: 1-8                              [100, 28]                 --\n",
       "├─Linear: 1-9                            [100, 10]                 280\n",
       "├─Conv2d: 1-10                           [100, 1, 28, 1]           28\n",
       "├─ReLU: 1-11                             [100, 28]                 --\n",
       "├─Linear: 1-12                           [100, 10]                 280\n",
       "├─Softmax: 1-13                          [100, 10]                 --\n",
       "==========================================================================================\n",
       "Total params: 1,232\n",
       "Trainable params: 1,232\n",
       "Non-trainable params: 0\n",
       "Total mult-adds (M): 0.43\n",
       "==========================================================================================\n",
       "Input size (MB): 0.31\n",
       "Forward/backward pass size (MB): 0.12\n",
       "Params size (MB): 0.00\n",
       "Estimated Total Size (MB): 0.44\n",
       "=========================================================================================="
      ]
     },
     "execution_count": 30,
     "metadata": {},
     "output_type": "execute_result"
    }
   ],
   "source": [
    "# 양자화 시킨 데이터셋을 적용시킬 CR+FC 뉴럴네트워크 생성\n",
    "import torch.nn as nn\n",
    "from torchinfo import summary\n",
    "\n",
    "class CRFC(nn.Module):\n",
    "    def __init__(self) -> None:\n",
    "        super().__init__()\n",
    "        IMG_WIDTH = 28\n",
    "        COL_CH = 2\n",
    "        ROW_CH = 2\n",
    "        self.col1 = nn.Conv2d(in_channels=1, out_channels=1, kernel_size=(IMG_WIDTH,1), bias=False) # MINST : 흑백이미지 -> 채널=1\n",
    "        self.col2 = nn.Conv2d(in_channels=1, out_channels=1, kernel_size=(IMG_WIDTH,1), bias=False)\n",
    "        self.row1 = nn.Conv2d(in_channels=1, out_channels=1, kernel_size=(1,IMG_WIDTH), bias=False)\n",
    "        self.row2 = nn.Conv2d(in_channels=1, out_channels=1, kernel_size=(1,IMG_WIDTH), bias=False)\n",
    "        self.relu = nn.ReLU()\n",
    "        self.fc1 = nn.Linear(IMG_WIDTH, 10, bias=False) # MNIST 답 선택지 개수=10\n",
    "        self.fc2 = nn.Linear(IMG_WIDTH, 10, bias=False)\n",
    "        self.fc3 = nn.Linear(IMG_WIDTH, 10, bias=False)\n",
    "        self.fc4 = nn.Linear(IMG_WIDTH, 10, bias=False)\n",
    "        self.softmax = nn.Softmax(dim=1)\n",
    "    def forward(self, input:torch.Tensor, quantize=False) -> torch.Tensor:\n",
    "        h1 = self.col1(input).squeeze() # (BATCH_SIZE, COL_CH, 1, IMG_WIDTH) 에서 1인 차원 제거 \n",
    "        h1 = self.relu(h1)\n",
    "        h1 = self.fc1(h1) # torch.Size([[BATCH_SIZE, COL_CH, 10])\n",
    "\n",
    "        h2 = self.col2(input).squeeze()\n",
    "        h2 = self.relu(h2)\n",
    "        h2 = self.fc2(h2)\n",
    "\n",
    "        h3 = self.row1(input).squeeze()\n",
    "        h3 = self.relu(h3)\n",
    "        h3 = self.fc3(h3)\n",
    "\n",
    "        h4 = self.row2(input).squeeze()\n",
    "        h4 = self.relu(h4)\n",
    "        h4 = self.fc4(h4)\n",
    "\n",
    "        h5 = h1 + h2 + h3 + h4\n",
    "        # h5 = torch.sum((h1,h2,h3,h4), dim=1)\n",
    "        output = self.softmax(h5)\n",
    "        return output\n",
    "\n",
    "# 모델 객체 생성\n",
    "model = CRFC()\n",
    "\n",
    "# 컨볼루션 테스트 \n",
    "for x, y in train_loader:\n",
    "    output = model(x)\n",
    "    break\n",
    "print('output: ', output.shape)\n",
    "\n",
    "# 모델 구조 확인\n",
    "summary(model, (100,1,28,28))"
   ]
  },
  {
   "cell_type": "code",
   "execution_count": 34,
   "metadata": {},
   "outputs": [
    {
     "name": "stderr",
     "output_type": "stream",
     "text": [
      "Train: 100%|██████████| 600/600 [00:16<00:00, 35.50it/s]\n",
      "Evaluation: 100%|██████████| 100/100 [00:01<00:00, 63.24it/s]\n"
     ]
    },
    {
     "name": "stdout",
     "output_type": "stream",
     "text": [
      "Epoch [1/3] Train_Loss: 1.5600, Test_Loss: 1.5553, Test_acc: 91.20\n"
     ]
    },
    {
     "name": "stderr",
     "output_type": "stream",
     "text": [
      "Train: 100%|██████████| 600/600 [00:16<00:00, 36.27it/s]\n",
      "Evaluation: 100%|██████████| 100/100 [00:01<00:00, 62.18it/s]\n"
     ]
    },
    {
     "name": "stdout",
     "output_type": "stream",
     "text": [
      "Epoch [2/3] Train_Loss: 1.5586, Test_Loss: 1.5553, Test_acc: 91.03\n"
     ]
    },
    {
     "name": "stderr",
     "output_type": "stream",
     "text": [
      "Train: 100%|██████████| 600/600 [00:16<00:00, 36.71it/s]\n",
      "Evaluation: 100%|██████████| 100/100 [00:01<00:00, 65.03it/s]"
     ]
    },
    {
     "name": "stdout",
     "output_type": "stream",
     "text": [
      "Epoch [3/3] Train_Loss: 1.5574, Test_Loss: 1.5539, Test_acc: 91.06\n"
     ]
    },
    {
     "name": "stderr",
     "output_type": "stream",
     "text": [
      "\n"
     ]
    }
   ],
   "source": [
    "# 모델 학습\n",
    "from tqdm import tqdm\n",
    "\n",
    "EPOCH = 3\n",
    "LR = 1e-3\n",
    "L2_LAMBDA = 1e-3\n",
    "\n",
    "model.to(device)\n",
    "cross_entropy = nn.CrossEntropyLoss().to(device)\n",
    "optimizer = torch.optim.Adam(model.parameters(), lr=LR)\n",
    "\n",
    "accum_loss = 0 \n",
    "train_loss_arr = []\n",
    "test_loss_arr = []\n",
    "acc_arr = []\n",
    "accum_acc = 0\n",
    "\n",
    "for epoch in range(EPOCH):\n",
    "    model.train()\n",
    "    with tqdm(total=len(train_loader), desc='Train') as pbar:\n",
    "        for x,y in train_loader:\n",
    "            train_output = model(x.to(device))\n",
    "            # l2_norm = sum(param.pow(2.0).sum() for param in model.parameters())\n",
    "            # train_loss = cross_entropy(train_output, y.to(device)) + (L2_LAMBDA * l2_norm)\n",
    "            train_loss = cross_entropy(train_output, y.to(device))\n",
    "            optimizer.zero_grad()\n",
    "            train_loss.backward()\n",
    "            optimizer.step()\n",
    "            accum_loss += train_loss.cpu().item()\n",
    "            pbar.update(1)\n",
    "    cur_train_loss = accum_loss/len(train_loader)\n",
    "    train_loss_arr.append(cur_train_loss)\n",
    "    accum_loss = 0\n",
    "\n",
    "    model.eval()\n",
    "    with torch.no_grad():\n",
    "        with tqdm(total=len(test_loader), desc='Evaluation') as pbar:\n",
    "            for x,y in test_loader:\n",
    "                test_output = model(x.to(device))\n",
    "                # l2_norm = sum(param.pow(2.0).sum() for param in model.parameters())\n",
    "                # test_loss = cross_entropy(test_output, y.to(device)) + (L2_LAMBDA * l2_norm)\n",
    "                test_loss = cross_entropy(test_output, y.to(device))\n",
    "                accum_loss += test_loss.cpu().item()\n",
    "                max_prob, pred_idx = torch.max(test_output.data, 1)\n",
    "                accum_acc += (pred_idx.cpu() == y).sum().item()\n",
    "                pbar.update(1)\n",
    "    cur_test_loss = accum_loss/len(test_loader)\n",
    "    test_loss_arr.append(cur_test_loss)\n",
    "    cur_acc = 100*accum_acc/len(test_loader.dataset)\n",
    "    acc_arr.append(cur_acc)\n",
    "    accum_loss = 0\n",
    "    accum_acc = 0\n",
    "    print(\"Epoch [{}/{}] Train_Loss: {:.4f}, Test_Loss: {:.4f}, Test_acc: {:.2f}\".format(epoch+1, EPOCH, cur_train_loss,cur_test_loss, cur_acc))\n",
    "\n",
    "\n",
    "\n"
   ]
  },
  {
   "cell_type": "code",
   "execution_count": 88,
   "metadata": {},
   "outputs": [
    {
     "name": "stdout",
     "output_type": "stream",
     "text": [
      "(28,)\n",
      "(28,)\n",
      "(28,)\n",
      "(28,)\n",
      "(280,)\n",
      "(280,)\n",
      "(280,)\n",
      "(280,)\n"
     ]
    }
   ],
   "source": [
    "param_arr = []\n",
    "for idx, param in enumerate(model.cpu().parameters()):\n",
    "    param = param.detach().numpy().reshape(-1)\n",
    "    print(param.shape)\n",
    "    param_arr.append(param)\n",
    "\n"
   ]
  },
  {
   "cell_type": "code",
   "execution_count": 91,
   "metadata": {},
   "outputs": [
    {
     "data": {
      "text/plain": [
       "1"
      ]
     },
     "execution_count": 91,
     "metadata": {},
     "output_type": "execute_result"
    }
   ],
   "source": [
    "for idx, params in enumerate(param_arr):\n",
    "    plt.subplot(2,4,idx)\n",
    "    plt.hist(params, bins=10, edgecolor='black')\n",
    "    plt.title()"
   ]
  },
  {
   "cell_type": "code",
   "execution_count": 58,
   "metadata": {},
   "outputs": [
    {
     "data": {
      "image/png": "[encoded data removed]",
      "text/plain": [
       "<Figure size 640x480 with 1 Axes>"
      ]
     },
     "metadata": {},
     "output_type": "display_data"
    }
   ],
   "source": [
    "\n",
    "plt.hist(param_arr, bins=10, edgecolor='black') # Plot the histogram with 20 bins and black edges\n",
    "plt.title('Histogram of Model Weights') # Add title to the plot\n",
    "plt.xlabel('Weight') # Label the x-axis\n",
    "plt.ylabel('The # of Weights') # Label the y-axis\n",
    "plt.show() # Display the plot"
   ]
  },
  {
   "cell_type": "code",
   "execution_count": null,
   "metadata": {},
   "outputs": [],
   "source": []
  }
 ],
 "metadata": {
  "kernelspec": {
   "display_name": "node",
   "language": "python",
   "name": "python3"
  },
  "language_info": {
   "codemirror_mode": {
    "name": "ipython",
    "version": 3
   },
   "file_extension": ".py",
   "mimetype": "text/x-python",
   "name": "python",
   "nbconvert_exporter": "python",
   "pygments_lexer": "ipython3",
   "version": "3.10.9 (main, Jan 11 2023, 09:18:20) [Clang 14.0.6 ]"
  },
  "orig_nbformat": 4,
  "vscode": {
   "interpreter": {
    "hash": "ae9f06d3aadcf6fbe26f5d73d05f6bdeb7d5e1d439ef385a776d559862b27e86"
   }
  }
 },
 "nbformat": 4,
 "nbformat_minor": 2
}
